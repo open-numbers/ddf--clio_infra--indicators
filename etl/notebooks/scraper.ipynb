{
 "cells": [
  {
   "cell_type": "code",
   "execution_count": 1,
   "metadata": {
    "collapsed": true
   },
   "outputs": [],
   "source": [
    "import requests\n",
    "from lxml import etree"
   ]
  },
  {
   "cell_type": "code",
   "execution_count": 2,
   "metadata": {
    "collapsed": true
   },
   "outputs": [],
   "source": [
    "url = 'https://www.clio-infra.eu/index.html'"
   ]
  },
  {
   "cell_type": "code",
   "execution_count": 3,
   "metadata": {
    "collapsed": true
   },
   "outputs": [],
   "source": [
    "response = requests.get(url)"
   ]
  },
  {
   "cell_type": "code",
   "execution_count": 6,
   "metadata": {
    "collapsed": true
   },
   "outputs": [],
   "source": [
    "content = response.content"
   ]
  },
  {
   "cell_type": "code",
   "execution_count": 7,
   "metadata": {
    "collapsed": true
   },
   "outputs": [],
   "source": [
    "tree = etree.fromstring(content, parser=etree.HTMLParser())"
   ]
  },
  {
   "cell_type": "code",
   "execution_count": 8,
   "metadata": {
    "scrolled": false
   },
   "outputs": [
    {
     "data": {
      "text/plain": [
       "<Element html at 0x10d901988>"
      ]
     },
     "execution_count": 8,
     "metadata": {},
     "output_type": "execute_result"
    }
   ],
   "source": [
    "tree"
   ]
  },
  {
   "cell_type": "code",
   "execution_count": 9,
   "metadata": {
    "collapsed": true
   },
   "outputs": [],
   "source": [
    "elem = tree.xpath('//div[@class=\"col-sm-4\"]/div[@class = \"list-group\"]/p[@class = \"list-group-item\"]')"
   ]
  },
  {
   "cell_type": "code",
   "execution_count": 10,
   "metadata": {},
   "outputs": [
    {
     "data": {
      "text/plain": [
       "575"
      ]
     },
     "execution_count": 10,
     "metadata": {},
     "output_type": "execute_result"
    }
   ],
   "source": [
    "len(elem)"
   ]
  },
  {
   "cell_type": "code",
   "execution_count": 11,
   "metadata": {
    "collapsed": true
   },
   "outputs": [],
   "source": [
    "e = elem[0]"
   ]
  },
  {
   "cell_type": "code",
   "execution_count": 12,
   "metadata": {},
   "outputs": [
    {
     "name": "stdout",
     "output_type": "stream",
     "text": [
      "<p class=\"list-group-item\">\n",
      "  <a href=\"../Indicators/CattleperCapita.html\">Cattle per Capita</a>\n",
      "  <span class=\"badge\">\n",
      "    <a href=\"../data/CattleperCapita_Compact.xlsx\">\n",
      "      <font color=\"FFFFFF\"> 1500 [7456] 2010</font>\n",
      "    </a>\n",
      "  </span>\n",
      "</p>\n",
      "\n",
      "\n"
     ]
    }
   ],
   "source": [
    "print(etree.tostring(e, pretty_print=True, encoding='utf8').decode('utf8'))"
   ]
  },
  {
   "cell_type": "code",
   "execution_count": 13,
   "metadata": {
    "collapsed": true,
    "scrolled": false
   },
   "outputs": [],
   "source": [
    "a = e.find('a')"
   ]
  },
  {
   "cell_type": "code",
   "execution_count": 14,
   "metadata": {},
   "outputs": [
    {
     "data": {
      "text/plain": [
       "'Cattle per Capita'"
      ]
     },
     "execution_count": 14,
     "metadata": {},
     "output_type": "execute_result"
    }
   ],
   "source": [
    "a.text"
   ]
  },
  {
   "cell_type": "code",
   "execution_count": 15,
   "metadata": {
    "collapsed": true
   },
   "outputs": [],
   "source": [
    "a_ = e.find('*/a')"
   ]
  },
  {
   "cell_type": "code",
   "execution_count": 16,
   "metadata": {},
   "outputs": [
    {
     "data": {
      "text/plain": [
       "'../data/CattleperCapita_Compact.xlsx'"
      ]
     },
     "execution_count": 16,
     "metadata": {},
     "output_type": "execute_result"
    }
   ],
   "source": [
    "a_.attrib['href']"
   ]
  },
  {
   "cell_type": "code",
   "execution_count": null,
   "metadata": {
    "collapsed": true
   },
   "outputs": [],
   "source": []
  },
  {
   "cell_type": "code",
   "execution_count": 17,
   "metadata": {
    "collapsed": true
   },
   "outputs": [],
   "source": [
    "def get_indicator_links(tree):\n",
    "    elem = tree.xpath('//div[@class=\"col-sm-4\"]/div[@class = \"list-group\"]/p[@class = \"list-group-item\"]')\n",
    "    \n",
    "    res1 = {}\n",
    "    res2 = {}\n",
    "    \n",
    "    for e in elem:\n",
    "        try:\n",
    "            name = e.find('a').text\n",
    "            link = e.find('*/a').attrib['href']\n",
    "            if '../data' in link:\n",
    "                res1[name] = link\n",
    "            else:\n",
    "                res2[name] = link\n",
    "        except:\n",
    "            name = e.text\n",
    "            res2[name] = ''\n",
    "    return (res1, res2)"
   ]
  },
  {
   "cell_type": "code",
   "execution_count": 18,
   "metadata": {
    "scrolled": true
   },
   "outputs": [],
   "source": [
    "ind, cc = get_indicator_links(tree)"
   ]
  },
  {
   "cell_type": "code",
   "execution_count": 19,
   "metadata": {},
   "outputs": [
    {
     "data": {
      "text/plain": [
       "{'Aluminium Production': '../data/AluminiumProduction_Compact.xlsx',\n",
       " 'Armed Conflicts (Internal)': '../data/Armedconflicts(Internal)_Compact.xlsx',\n",
       " 'Armed Conflicts (International)': '../data/ArmedConflicts(International)_Compact.xlsx',\n",
       " 'Average Years of Education': '../data/AverageYearsofEducation_Compact.xlsx',\n",
       " 'Bauxite Production': '../data/BauxiteProduction_Compact.xlsx',\n",
       " 'Biodiversity - naturalness': '../data/Biodiversity-naturalness_Compact.xlsx',\n",
       " 'Book Titles per Capita': '../data/BookTitlesperCapita_Compact.xlsx',\n",
       " 'CO2 Emissions per Capita': '../data/CO2EmissionsperCapita_Compact.xlsx',\n",
       " 'Cattle per Capita': '../data/CattleperCapita_Compact.xlsx',\n",
       " 'Competitiveness of Executive ': '../data/CompetitivenessofExecutiveRecruitment(XRCOMP)_Compact.xlsx',\n",
       " 'Competitiveness of Participations ': '../data/CompetitivenessofParticipations(PARCOMP)_Compact.xlsx',\n",
       " 'Composite Measure ': '../data/CompositeMeasureofWellbeing_Compact.xlsx',\n",
       " 'Copper Production': '../data/CopperProduction_Compact.xlsx',\n",
       " 'Cropland per Capita': '../data/CroplandperCapita_Compact.xlsx',\n",
       " 'Educational Inequality Gini ': '../data/EducationalInequalityGiniCoefficient_Compact.xlsx',\n",
       " 'Exchange Rates to UK Pound': '../data/ExchangeRatestoUKPound_Compact.xlsx',\n",
       " 'Exchange Rates to US Dollar': '../data/ExchangeRatestoUSDollar_Compact.xlsx',\n",
       " 'Executive Constraints ': '../data/ExecutiveConstraints(XCONST)_Compact.xlsx',\n",
       " 'Female life Expectancy at Birth': '../data/FemalelifeexpectancyatBirth_Compact.xlsx',\n",
       " 'GDP per Capita': '../data/GDPperCapita_Compact.xlsx',\n",
       " 'Gender Equality Years ': '../data/GenderEqualityYearsofEducation_Compact.xlsx',\n",
       " 'Gender Equality of Numeracy': '../data/GenderEqualityofNumeracy_Compact.xlsx',\n",
       " 'Gender-equal Inheritance': '../data/Gender-equalInheritance_Compact.xlsx',\n",
       " 'Goats per Capita': '../data/GoatsperCapita_Compact.xlsx',\n",
       " 'Gold Production': '../data/GoldProduction_Compact.xlsx',\n",
       " 'Gold Standard': '../data/GoldStandard_Compact.xlsx',\n",
       " 'Height': '../data/Height_Compact.xlsx',\n",
       " 'Height Gini': '../data/HeightGini_Compact.xlsx',\n",
       " 'Historical Gender Equality Index': '../data/HistoricalGenderEqualityIndex_Compact.xlsx',\n",
       " 'Homicide Rates': '../data/HomicideRates_Compact.xlsx',\n",
       " 'Income Inequality': '../data/IncomeInequality_Compact.xlsx',\n",
       " 'Infant Mortality': '../data/InfantMortality_Compact.xlsx',\n",
       " 'Inflation': '../data/Inflation_Compact.xlsx',\n",
       " 'Iron Ore Production': '../data/IronOreProduction_Compact.xlsx',\n",
       " 'Labourers Real Wage': '../data/LabourersRealWage_Compact.xlsx',\n",
       " 'Latent Democracy Variable': '../data/LatentDemocracyVariable_Compact.xlsx',\n",
       " 'Lead Production': '../data/LeadProduction_Compact.xlsx',\n",
       " 'Life Expectancy at Birth (Total)': '../data/LifeExpectancyatBirth(Total)_Compact.xlsx',\n",
       " 'Long-Term Government ': '../data/Long-TermGovernmentBondYield_Compact.xlsx',\n",
       " 'Male life Expectancy at Birth': '../data/MalelifeExpectancyatBirth_Compact.xlsx',\n",
       " 'Manganese Production': '../data/ManganeseProduction_Compact.xlsx',\n",
       " 'Nickel Production': '../data/NickelProduction_Compact.xlsx',\n",
       " 'Number of Days Lost in ': '../data/NumberofDaysLostinLabourDisputes_Compact.xlsx',\n",
       " 'Number of Labour Disputes': '../data/NumberofLabourDisputes_Compact.xlsx',\n",
       " 'Number of Workers Involved ': '../data/NumberofWorkersInvolvedinLabourDisputes_Compact.xlsx',\n",
       " 'Numeracy (Total)': '../data/Numeracy(Total)_Compact.xlsx',\n",
       " 'Openness of Executive ': '../data/OpennessofExecutiveRecruitment(XROPEN)_Compact.xlsx',\n",
       " 'Pasture per Capita': '../data/PastureperCapita_Compact.xlsx',\n",
       " 'Pigs per Capita': '../data/PigsperCapita_Compact.xlsx',\n",
       " 'Political Competition': '../data/PoliticalCompetition_Compact.xlsx',\n",
       " 'Political Participation': '../data/PoliticalParticipation_Compact.xlsx',\n",
       " 'Polity2 Index': '../data/Polity2Index_Compact.xlsx',\n",
       " 'Polyarchy': '../data/Polyarchy_Compact.xlsx',\n",
       " 'Regulation of Chief Executive ': '../data/RegulationofChiefExecutiveRecruitment(XRREG)_Compact.xlsx',\n",
       " 'Regulation of Participation ': '../data/RegulationofParticipation(PARREG)_Compact.xlsx',\n",
       " 'SO2 Emissions per Capita': '../data/SO2EmissionsperCapita_Compact.xlsx',\n",
       " 'Sex Ratio': '../data/SexRatio_Compact.xlsx',\n",
       " 'Share of Women in Parliament': '../data/ShareofWomeninParliament_Compact.xlsx',\n",
       " 'Sheep per Capita': '../data/SheepperCapita_Compact.xlsx',\n",
       " 'Silver Production': '../data/SilverProduction_Compact.xlsx',\n",
       " 'Tin Production': '../data/TinProduction_Compact.xlsx',\n",
       " 'Total CO2 Emissions': '../data/TotalCO2Emissions_Compact.xlsx',\n",
       " 'Total Cattle': '../data/TotalCattle_Compact.xlsx',\n",
       " 'Total Cropland': '../data/TotalCropland_Compact.xlsx',\n",
       " 'Total Gross Central Government ': '../data/TotalGrossCentralGovernmentDebtasaPercentageofGDP_Compact.xlsx',\n",
       " 'Total Number of Goats': '../data/TotalNumberofGoats_Compact.xlsx',\n",
       " 'Total Number of Pigs': '../data/TotalNumberofPigs_Compact.xlsx',\n",
       " 'Total Number of Sheep': '../data/TotalNumberofSheep_Compact.xlsx',\n",
       " 'Total Pasture': '../data/TotalPasture_Compact.xlsx',\n",
       " 'Total Population': '../data/TotalPopulation_Compact.xlsx',\n",
       " 'Total SO2 Emissions': '../data/TotalSO2Emissions_Compact.xlsx',\n",
       " 'Total Urban Population': '../data/TotalUrbanPopulation_Compact.xlsx',\n",
       " 'Tungsten Production': '../data/TungstenProduction_Compact.xlsx',\n",
       " 'Unified Democracy Scores ': '../data/UnifiedDemocracyScores(UDS)_Compact.xlsx',\n",
       " 'Universities Founded': '../data/UniversitiesFounded_Compact.xlsx',\n",
       " 'Urbanization Ratio': '../data/UrbanizationRatio_Compact.xlsx',\n",
       " 'Zinc Production': '../data/ZincProduction_Compact.xlsx'}"
      ]
     },
     "execution_count": 19,
     "metadata": {},
     "output_type": "execute_result"
    }
   ],
   "source": [
    "ind"
   ]
  },
  {
   "cell_type": "code",
   "execution_count": 20,
   "metadata": {},
   "outputs": [
    {
     "data": {
      "text/plain": [
       "77"
      ]
     },
     "execution_count": 20,
     "metadata": {},
     "output_type": "execute_result"
    }
   ],
   "source": [
    "len(ind)"
   ]
  },
  {
   "cell_type": "code",
   "execution_count": 133,
   "metadata": {
    "scrolled": false
   },
   "outputs": [
    {
     "data": {
      "text/plain": [
       "{'Afghanistan': '../docs/Afghanistan_AllIndicatorsAvailable_TerritorialRef_1946_2012_CCode_4.xlsx',\n",
       " 'Albania': '../docs/Albania_AllIndicatorsAvailable_TerritorialRef_1946_2012_CCode_8.xlsx',\n",
       " 'Algeria': '../docs/Algeria_AllIndicatorsAvailable_TerritorialRef_1962_2012_CCode_12.xlsx',\n",
       " 'American Samoa': '',\n",
       " 'Andorra': '../docs/Andorra_AllIndicatorsAvailable_TerritorialRef_1993_2012_CCode_20.xlsx',\n",
       " 'Angola': '../docs/Angola_AllIndicatorsAvailable_TerritorialRef_1975_2012_CCode_24.xlsx',\n",
       " 'Anguilla': '',\n",
       " 'Antigua and Barbuda': '../docs/AntiguaandBarbuda_AllIndicatorsAvailable_TerritorialRef_1981_2012_CCode_28.xlsx',\n",
       " 'Argentina': '../docs/Argentina_AllIndicatorsAvailable_TerritorialRef_1946_2012_CCode_32.xlsx',\n",
       " 'Armenia': '../docs/Armenia_AllIndicatorsAvailable_TerritorialRef_1991_2012_CCode_51.xlsx',\n",
       " 'Aruba': '',\n",
       " 'Australia': '../docs/Australia_AllIndicatorsAvailable_TerritorialRef_1946_2012_CCode_36.xlsx',\n",
       " 'Austria': '../docs/Austria_AllIndicatorsAvailable_TerritorialRef_1955_2012_CCode_40.xlsx',\n",
       " 'Azerbaijan': '../docs/Azerbaijan_AllIndicatorsAvailable_TerritorialRef_1991_2012_CCode_31.xlsx',\n",
       " 'Bahamas': '../docs/Bahamas_AllIndicatorsAvailable_TerritorialRef_1973_2012_CCode_44.xlsx',\n",
       " 'Bahrain': '../docs/Bahrain_AllIndicatorsAvailable_TerritorialRef_1971_2012_CCode_48.xlsx',\n",
       " 'Bangladesh': '../docs/Bangladesh_AllIndicatorsAvailable_TerritorialRef_1971_2012_CCode_50.xlsx',\n",
       " 'Barbados': '../docs/Barbados_AllIndicatorsAvailable_TerritorialRef_1966_2012_CCode_52.xlsx',\n",
       " 'Belarus': '../docs/Belarus_AllIndicatorsAvailable_TerritorialRef_1991_2012_CCode_112.xlsx',\n",
       " 'Belgium': '../docs/Belgium_AllIndicatorsAvailable_TerritorialRef_1946_2012_CCode_56.xlsx',\n",
       " 'Belize': '../docs/Belize_AllIndicatorsAvailable_TerritorialRef_1981_2012_CCode_84.xlsx',\n",
       " 'Benin': '../docs/Benin_AllIndicatorsAvailable_TerritorialRef_1960_2012_CCode_204.xlsx',\n",
       " 'Bermuda': '',\n",
       " 'Bhutan': '../docs/Bhutan_AllIndicatorsAvailable_TerritorialRef_1971_2012_CCode_64.xlsx',\n",
       " 'Bolivia (Plurinational State of)': '../docs/Bolivia_AllIndicatorsAvailable_TerritorialRef_1946_2012_CCode_68.xlsx',\n",
       " 'Bonaire, Sint Eustatius and Saba': '',\n",
       " 'Bosnia and Herzegovina': '../docs/BosniaandHerzegovina_AllIndicatorsAvailable_TerritorialRef_1992_2012_CCode_70.xlsx',\n",
       " 'Botswana': '../docs/Botswana_AllIndicatorsAvailable_TerritorialRef_1966_2012_CCode_72.xlsx',\n",
       " 'Brazil': '../docs/Brazil_AllIndicatorsAvailable_TerritorialRef_1960_2012_CCode_76.xlsx',\n",
       " 'British Virgin Islands': '',\n",
       " 'Brunei Darussalam': '../docs/Brunei_AllIndicatorsAvailable_TerritorialRef_1984_2012_CCode_96.xlsx',\n",
       " 'Bulgaria': '../docs/Bulgaria_AllIndicatorsAvailable_TerritorialRef_1946_2012_CCode_100.xlsx',\n",
       " 'Burkina Faso': '../docs/BurkinaFaso_AllIndicatorsAvailable_TerritorialRef_1960_2012_CCode_854.xlsx',\n",
       " 'Burundi': '../docs/Burundi_AllIndicatorsAvailable_TerritorialRef_1962_2012_CCode_108.xlsx',\n",
       " 'Cabo Verde': '../docs/CapeVerde_AllIndicatorsAvailable_TerritorialRef_1975_2012_CCode_132.xlsx',\n",
       " 'Cambodia': '../docs/Cambodia_AllIndicatorsAvailable_TerritorialRef_1953_2012_CCode_116.xlsx',\n",
       " 'Cameroon': '../docs/Cameroon_AllIndicatorsAvailable_TerritorialRef_1961_2012_CCode_120.xlsx',\n",
       " 'Canada': '../docs/Canada_AllIndicatorsAvailable_TerritorialRef_1948_2012_CCode_124.xlsx',\n",
       " 'Cayman Islands': '',\n",
       " 'Central African Republic': '../docs/CentralAfricanRepublic_AllIndicatorsAvailable_TerritorialRef_1960_2012_CCode_140.xlsx',\n",
       " 'Ceylon [1500-1945]': '../docs/Ceylon_1500_1945_all_data.xlsx',\n",
       " 'Chad': '../docs/Chad_AllIndicatorsAvailable_TerritorialRef_1973_2012_CCode_148.xlsx',\n",
       " 'Channel Islands': '',\n",
       " 'Chile': '../docs/Chile_AllIndicatorsAvailable_TerritorialRef_1946_2012_CCode_152.xlsx',\n",
       " 'China': '../docs/China_AllIndicatorsAvailable_TerritorialRef_1949_2012_CCode_156.xlsx',\n",
       " 'China, Hong Kong Special Administrative Region': '',\n",
       " 'China, Macao Special Administrative Region': '',\n",
       " 'Colombia': '../docs/Colombia_AllIndicatorsAvailable_TerritorialRef_1946_2012_CCode_170.xlsx',\n",
       " 'Comoros': '../docs/Comoros_AllIndicatorsAvailable_TerritorialRef_1975_2012_CCode_174.xlsx',\n",
       " 'Congo': '../docs/Congo_AllIndicatorsAvailable_TerritorialRef_1960_2012_CCode_178.xlsx',\n",
       " 'Cook Islands': '',\n",
       " 'Costa Rica': '../docs/CostaRica_AllIndicatorsAvailable_TerritorialRef_1946_2012_CCode_188.xlsx',\n",
       " \"Cote d'Ivoire\": '../docs/CotedIvoire_AllIndicatorsAvailable_TerritorialRef_1960_2012_CCode_384.xlsx',\n",
       " 'Croatia': '../docs/Croatia_AllIndicatorsAvailable_TerritorialRef_1992_2012_CCode_191.xlsx',\n",
       " 'Cuba': '../docs/Cuba_AllIndicatorsAvailable_TerritorialRef_1946_2012_CCode_192.xlsx',\n",
       " 'Curaçao': '',\n",
       " 'Cyprus': '../docs/Cyprus_AllIndicatorsAvailable_TerritorialRef_1960_2012_CCode_196.xlsx',\n",
       " 'Czech Republic': '../docs/CzechRepublic_AllIndicatorsAvailable_TerritorialRef_1993_2012_CCode_203.xlsx',\n",
       " 'Czechoslovakia [1920-1992]': '../docs/Czechoslovakia_1920_1992_all_data.xlsx',\n",
       " \"Democratic People's Republic of Korea\": '../docs/NorthKorea_AllIndicatorsAvailable_TerritorialRef_1948_2012_CCode_408.xlsx',\n",
       " 'Democratic Republic of the Congo': '../docs/CongoDRC_AllIndicatorsAvailable_TerritorialRef_1960_2012_CCode_180.xlsx',\n",
       " 'Denmark': '../docs/Denmark_AllIndicatorsAvailable_TerritorialRef_1946_2012_CCode_208.xlsx',\n",
       " 'Djibouti': '../docs/Djibouti_AllIndicatorsAvailable_TerritorialRef_1977_2012_CCode_262.xlsx',\n",
       " 'Dominica': '../docs/Dominica_AllIndicatorsAvailable_TerritorialRef_1978_2012_CCode_212.xlsx',\n",
       " 'Dominican Republic': '../docs/DominicanRepublic_AllIndicatorsAvailable_TerritorialRef_1946_2012_CCode_214.xlsx',\n",
       " 'Ecuador': '../docs/Ecuador_AllIndicatorsAvailable_TerritorialRef_1946_2012_CCode_218.xlsx',\n",
       " 'Egypt': '../docs/Egypt_AllIndicatorsAvailable_TerritorialRef_1979_2012_CCode_818.xlsx',\n",
       " 'Egypt (United Arab Republic) [1958-1961]': '../docs/EgyptUnitedArabRepublic_1958_1961_all_data.xlsx',\n",
       " 'El Salvador': '../docs/ElSalvador_AllIndicatorsAvailable_TerritorialRef_1946_2012_CCode_222.xlsx',\n",
       " 'England [1500-1945]': '../docs/England_1500_1945_all_data.xlsx',\n",
       " 'Equatorial Guinea': '../docs/EquatorialGuinea_AllIndicatorsAvailable_TerritorialRef_1968_2012_CCode_226.xlsx',\n",
       " 'Eritrea': '../docs/Eritrea_AllIndicatorsAvailable_TerritorialRef_1993_2012_CCode_232.xlsx',\n",
       " 'Estonia': '../docs/Estonia_AllIndicatorsAvailable_TerritorialRef_1991_2012_CCode_233.xlsx',\n",
       " 'Ethiopia': '../docs/Ethiopia_AllIndicatorsAvailable_TerritorialRef_1993_2012_CCode_231.xlsx',\n",
       " 'Faeroe Islands': '',\n",
       " 'Falkland Islands (Malvinas)': '',\n",
       " 'Falklands [1780-1945]': '../docs/Falklands_1780_1945_all_data.xlsx',\n",
       " 'Fiji': '../docs/Fiji_AllIndicatorsAvailable_TerritorialRef_1970_2012_CCode_242.xlsx',\n",
       " 'Finland': '../docs/Finland_AllIndicatorsAvailable_TerritorialRef_1946_2012_CCode_246.xlsx',\n",
       " 'France': '../docs/France_AllIndicatorsAvailable_TerritorialRef_1946_2012_CCode_250.xlsx',\n",
       " 'French Guiana': '',\n",
       " 'French Polynesia': '',\n",
       " 'Gabon': '../docs/Gabon_AllIndicatorsAvailable_TerritorialRef_1960_2012_CCode_266.xlsx',\n",
       " 'Gambia': '../docs/TheGambia_AllIndicatorsAvailable_TerritorialRef_1965_2012_CCode_270.xlsx',\n",
       " 'Gambia [1800-1945]': '../docs/Gambia_1800_1945_all_data.xlsx',\n",
       " 'Georgia': '../docs/Georgia_AllIndicatorsAvailable_TerritorialRef_1991_2012_CCode_268.xlsx',\n",
       " 'German Confederation [1820-1879]': '../docs/GermanConfederation_1820_1879_all_data.xlsx',\n",
       " 'Germany': '../docs/Germany_AllIndicatorsAvailable_TerritorialRef_1990_2012_CCode_276.xlsx',\n",
       " 'Ghana': '../docs/Ghana_AllIndicatorsAvailable_TerritorialRef_1957_2012_CCode_288.xlsx',\n",
       " 'Gibraltar': '',\n",
       " 'Greece': '../docs/Greece_AllIndicatorsAvailable_TerritorialRef_1946_2012_CCode_300.xlsx',\n",
       " 'Greenland': '',\n",
       " 'Grenada': '../docs/Grenada_AllIndicatorsAvailable_TerritorialRef_1974_2012_CCode_308.xlsx',\n",
       " 'Guadeloupe': '',\n",
       " 'Guam': '',\n",
       " 'Guatemala': '../docs/Guatemala_AllIndicatorsAvailable_TerritorialRef_1946_2012_CCode_320.xlsx',\n",
       " 'Guernsey': '',\n",
       " 'Guinea': '../docs/Guinea_AllIndicatorsAvailable_TerritorialRef_1958_2012_CCode_324.xlsx',\n",
       " 'Guinea-Bissau': '../docs/GuineaBissau_AllIndicatorsAvailable_TerritorialRef_1974_2012_CCode_624.xlsx',\n",
       " 'Guyana': '../docs/Guyana_AllIndicatorsAvailable_TerritorialRef_1966_2012_CCode_328.xlsx',\n",
       " 'Haiti': '../docs/Haiti_AllIndicatorsAvailable_TerritorialRef_1946_2012_CCode_332.xlsx',\n",
       " 'Holy See': '',\n",
       " 'Honduras': '../docs/Honduras_AllIndicatorsAvailable_TerritorialRef_1946_2012_CCode_340.xlsx',\n",
       " 'Hong Kong [1860-1945]': '../docs/HongKong_1860_1945_all_data.xlsx',\n",
       " 'Hungary': '../docs/Hungary_AllIndicatorsAvailable_TerritorialRef_1946_2012_CCode_348.xlsx',\n",
       " 'Iceland': '../docs/Iceland_AllIndicatorsAvailable_TerritorialRef_1946_2012_CCode_352.xlsx',\n",
       " 'India': '../docs/India_AllIndicatorsAvailable_TerritorialRef_1949_2012_CCode_356.xlsx',\n",
       " 'Indonesia': '../docs/Indonesia_AllIndicatorsAvailable_TerritorialRef_2002_2012_CCode_360.xlsx',\n",
       " 'Iran (Islamic Republic of)': '../docs/Iran_AllIndicatorsAvailable_TerritorialRef_1946_2012_CCode_364.xlsx',\n",
       " 'Iraq': '../docs/Iraq_AllIndicatorsAvailable_TerritorialRef_1946_2012_CCode_368.xlsx',\n",
       " 'Ireland': '../docs/Ireland_AllIndicatorsAvailable_TerritorialRef_1946_2012_CCode_372.xlsx',\n",
       " 'Isle of Man': '',\n",
       " 'Israel': '../docs/Israel_AllIndicatorsAvailable_TerritorialRef_1979_2012_CCode_376.xlsx',\n",
       " 'Italy': '../docs/Italy_AllIndicatorsAvailable_TerritorialRef_1946_2012_CCode_380.xlsx',\n",
       " 'Jamaica': '../docs/Jamaica_AllIndicatorsAvailable_TerritorialRef_1962_2012_CCode_388.xlsx',\n",
       " 'Japan': '../docs/Japan_AllIndicatorsAvailable_TerritorialRef_1952_2012_CCode_392.xlsx',\n",
       " 'Jersey': '',\n",
       " 'Jordan': '../docs/Jordan_AllIndicatorsAvailable_TerritorialRef_1946_2012_CCode_400.xlsx',\n",
       " 'Kazakhstan': '../docs/Kazakhstan_AllIndicatorsAvailable_TerritorialRef_1991_2012_CCode_398.xlsx',\n",
       " 'Kenya': '../docs/Kenya_AllIndicatorsAvailable_TerritorialRef_1963_2012_CCode_404.xlsx',\n",
       " 'Kiribati': '../docs/Kiribati_AllIndicatorsAvailable_TerritorialRef_1999_2012_CCode_296.xlsx',\n",
       " 'Kuwait': '../docs/Kuwait_AllIndicatorsAvailable_TerritorialRef_1961_2012_CCode_414.xlsx',\n",
       " 'Kyrgyzstan': '../docs/Kyrgyzstan_AllIndicatorsAvailable_TerritorialRef_1991_2012_CCode_417.xlsx',\n",
       " \"Lao People's Democratic Republic\": '../docs/Laos_AllIndicatorsAvailable_TerritorialRef_1953_2012_CCode_418.xlsx',\n",
       " 'Latvia': '../docs/Latvia_AllIndicatorsAvailable_TerritorialRef_1991_2012_CCode_428.xlsx',\n",
       " 'Lebanon': '../docs/Lebanon_AllIndicatorsAvailable_TerritorialRef_1946_2012_CCode_422.xlsx',\n",
       " 'Lesotho': '../docs/Lesotho_AllIndicatorsAvailable_TerritorialRef_1966_2012_CCode_426.xlsx',\n",
       " 'Liberia': '../docs/Liberia_AllIndicatorsAvailable_TerritorialRef_1946_2012_CCode_430.xlsx',\n",
       " 'Libya': '../docs/Libya_AllIndicatorsAvailable_TerritorialRef_1973_2012_CCode_434.xlsx',\n",
       " 'Liechtenstein': '../docs/Liechtenstein_AllIndicatorsAvailable_TerritorialRef_1990_2012_CCode_438.xlsx',\n",
       " 'Lithuania': '../docs/Lithuania_AllIndicatorsAvailable_TerritorialRef_1991_2012_CCode_440.xlsx',\n",
       " 'Luxembourg': '../docs/Luxembourg_AllIndicatorsAvailable_TerritorialRef_1946_2012_CCode_442.xlsx',\n",
       " 'Madagascar': '../docs/Madagascar_AllIndicatorsAvailable_TerritorialRef_1960_2012_CCode_450.xlsx',\n",
       " 'Malawi': '../docs/Malawi_AllIndicatorsAvailable_TerritorialRef_1964_2012_CCode_454.xlsx',\n",
       " 'Malaysia': '../docs/Malaysia_AllIndicatorsAvailable_TerritorialRef_1965_2012_CCode_458.xlsx',\n",
       " 'Maldives': '../docs/Maldives_AllIndicatorsAvailable_TerritorialRef_1965_2012_CCode_462.xlsx',\n",
       " 'Mali': '../docs/Mali_AllIndicatorsAvailable_TerritorialRef_1960_2012_CCode_466.xlsx',\n",
       " 'Malta': '../docs/Malta_AllIndicatorsAvailable_TerritorialRef_1964_2012_CCode_470.xlsx',\n",
       " 'Marshall Islands': '../docs/MarshallIs_AllIndicatorsAvailable_TerritorialRef_1991_2012_CCode_584.xlsx',\n",
       " 'Martinique': '',\n",
       " 'Mauritania': '../docs/Mauritania_AllIndicatorsAvailable_TerritorialRef_1979_2012_CCode_478.xlsx',\n",
       " 'Mauritius': '../docs/Mauritius_AllIndicatorsAvailable_TerritorialRef_1968_2012_CCode_480.xlsx',\n",
       " 'Mayotte': '',\n",
       " 'Mexico': '../docs/Mexico_AllIndicatorsAvailable_TerritorialRef_1946_2012_CCode_484.xlsx',\n",
       " 'Micronesia (Federated States of)': '../docs/Micronesia_AllIndicatorsAvailable_TerritorialRef_1991_2012_CCode_583.xlsx',\n",
       " 'Monaco': '../docs/Monaco_AllIndicatorsAvailable_TerritorialRef_1993_2012_CCode_492.xlsx',\n",
       " 'Mongolia': '../docs/Mongolia_AllIndicatorsAvailable_TerritorialRef_1946_2012_CCode_496.xlsx',\n",
       " 'Montenegro': '../docs/Montenegro_AllIndicatorsAvailable_TerritorialRef_2006_2012_CCode_499.xlsx',\n",
       " 'Montserrat': '',\n",
       " 'Morocco': '../docs/Morocco_AllIndicatorsAvailable_TerritorialRef_1979_2012_CCode_504.xlsx',\n",
       " 'Mozambique': '../docs/Mozambique_AllIndicatorsAvailable_TerritorialRef_1975_2012_CCode_508.xlsx',\n",
       " 'Myanmar': '../docs/Myanmar_AllIndicatorsAvailable_TerritorialRef_1948_2012_CCode_104.xlsx',\n",
       " 'Namibia': '../docs/Namibia_AllIndicatorsAvailable_TerritorialRef_1990_2012_CCode_516.xlsx',\n",
       " 'Nauru': '../docs/Nauru_AllIndicatorsAvailable_TerritorialRef_1999_2012_CCode_520.xlsx',\n",
       " 'Nepal': '../docs/Nepal_AllIndicatorsAvailable_TerritorialRef_1946_2012_CCode_524.xlsx',\n",
       " 'Netherlands': '../docs/Netherlands_AllIndicatorsAvailable_TerritorialRef_1946_2012_CCode_528.xlsx',\n",
       " 'New Caledonia': '',\n",
       " 'New Zealand': '../docs/NewZealand_AllIndicatorsAvailable_TerritorialRef_1946_2012_CCode_554.xlsx',\n",
       " 'Nicaragua': '../docs/Nicaragua_AllIndicatorsAvailable_TerritorialRef_1946_2012_CCode_558.xlsx',\n",
       " 'Niger': '../docs/Niger_AllIndicatorsAvailable_TerritorialRef_1960_2012_CCode_562.xlsx',\n",
       " 'Nigeria': '../docs/Nigeria_AllIndicatorsAvailable_TerritorialRef_1961_2012_CCode_566.xlsx',\n",
       " 'Niue': '',\n",
       " 'Norfolk Island': '',\n",
       " 'Northern Mariana Islands': '',\n",
       " 'Norway': '../docs/Norway_AllIndicatorsAvailable_TerritorialRef_1946_2012_CCode_578.xlsx',\n",
       " 'Oman': '../docs/Oman_AllIndicatorsAvailable_TerritorialRef_1971_2012_CCode_512.xlsx',\n",
       " 'Ottoman [1500-1945]': '../docs/Ottoman_1500_1945_all_data.xlsx',\n",
       " 'Pakistan': '../docs/Pakistan_AllIndicatorsAvailable_TerritorialRef_1971_2012_CCode_586.xlsx',\n",
       " 'Palau': '../docs/Palau_AllIndicatorsAvailable_TerritorialRef_1994_2012_CCode_585.xlsx',\n",
       " 'Panama': '../docs/Panama_AllIndicatorsAvailable_TerritorialRef_1946_2012_CCode_591.xlsx',\n",
       " 'Papua New Guinea': '../docs/PapuaNewGuinea_AllIndicatorsAvailable_TerritorialRef_1975_2012_CCode_598.xlsx',\n",
       " 'Paraguay': '../docs/Paraguay_AllIndicatorsAvailable_TerritorialRef_1946_2012_CCode_600.xlsx',\n",
       " 'Persia [1520-1919]': '../docs/Persia_1520_1919_all_data.xlsx',\n",
       " 'Peru': '../docs/Peru_AllIndicatorsAvailable_TerritorialRef_1946_2012_CCode_604.xlsx',\n",
       " 'Philippines': '../docs/Philippines_AllIndicatorsAvailable_TerritorialRef_1946_2012_CCode_608.xlsx',\n",
       " 'Pitcairn': '',\n",
       " 'Poland': '../docs/Poland_AllIndicatorsAvailable_TerritorialRef_1946_2012_CCode_616.xlsx',\n",
       " 'Poland-Lithuania [1500-1799]': '../docs/PolandLithuania_1500_1799_all_data.xlsx',\n",
       " 'Portugal': '../docs/Portugal_AllIndicatorsAvailable_TerritorialRef_1946_2012_CCode_620.xlsx',\n",
       " 'Prussia [1680-1879]': '../docs/Prussia_1680_1879_all_data.xlsx',\n",
       " 'Puerto Rico': '',\n",
       " 'Qatar': '../docs/Qatar_AllIndicatorsAvailable_TerritorialRef_1971_2012_CCode_634.xlsx',\n",
       " 'Republic of Korea': '../docs/SouthKorea_AllIndicatorsAvailable_TerritorialRef_1949_2012_CCode_410.xlsx',\n",
       " 'Republic of Moldova': '../docs/Moldova_AllIndicatorsAvailable_TerritorialRef_1991_2012_CCode_498.xlsx',\n",
       " 'Romania': '../docs/Romania_AllIndicatorsAvailable_TerritorialRef_1946_2012_CCode_642.xlsx',\n",
       " 'Russian Federation': '../docs/Russia_AllIndicatorsAvailable_TerritorialRef_1991_2012_CCode_643.xlsx',\n",
       " 'Rwanda': '../docs/Rwanda_AllIndicatorsAvailable_TerritorialRef_1962_2012_CCode_646.xlsx',\n",
       " 'Réunion': '',\n",
       " 'Saint Helena': '',\n",
       " 'Saint Kitts and Nevis': '../docs/StKittsandNevis_AllIndicatorsAvailable_TerritorialRef_1983_2012_CCode_659.xlsx',\n",
       " 'Saint Lucia': '../docs/StLucia_AllIndicatorsAvailable_TerritorialRef_1979_2012_CCode_662.xlsx',\n",
       " 'Saint Martin (French part)': '',\n",
       " 'Saint Pierre and Miquelon': '',\n",
       " 'Saint Vincent and the Grenadines': '../docs/StVincentandtheGrenadines_AllIndicatorsAvailable_TerritorialRef_1979_2012_CCode_670.xlsx',\n",
       " 'Saint-Barthélemy': '',\n",
       " 'Samoa': '../docs/Samoa_AllIndicatorsAvailable_TerritorialRef_1976_2012_CCode_882.xlsx',\n",
       " 'San Marino': '../docs/SanMarino_AllIndicatorsAvailable_TerritorialRef_1992_2012_CCode_674.xlsx',\n",
       " 'Sao Tome and Principe': '../docs/SaoTomeandPrincipe_AllIndicatorsAvailable_TerritorialRef_1975_2012_CCode_678.xlsx',\n",
       " 'Sark': '',\n",
       " 'Saudi Arabia': '../docs/SaudiArabia_AllIndicatorsAvailable_TerritorialRef_2000_2012_CCode_682.xlsx',\n",
       " 'Senegal': '../docs/Senegal_AllIndicatorsAvailable_TerritorialRef_1960_2012_CCode_686.xlsx',\n",
       " 'Serbia': '../docs/Serbia_AllIndicatorsAvailable_TerritorialRef_2008_2012_CCode_688.xlsx',\n",
       " 'Seychelles': '../docs/Seychelles_AllIndicatorsAvailable_TerritorialRef_1976_2012_CCode_690.xlsx',\n",
       " 'Sierra Leone': '../docs/SierraLeone_AllIndicatorsAvailable_TerritorialRef_1961_2012_CCode_694.xlsx',\n",
       " 'Singapore': '../docs/Singapore_AllIndicatorsAvailable_TerritorialRef_1965_2012_CCode_702.xlsx',\n",
       " 'Sint Maarten (Dutch part)': '',\n",
       " 'Slovakia': '../docs/Slovakia_AllIndicatorsAvailable_TerritorialRef_1993_2012_CCode_703.xlsx',\n",
       " 'Slovenia': '../docs/Slovenia_AllIndicatorsAvailable_TerritorialRef_1992_2012_CCode_705.xlsx',\n",
       " 'Solomon Islands': '../docs/SolomonIs_AllIndicatorsAvailable_TerritorialRef_1978_2012_CCode_90.xlsx',\n",
       " 'Somalia': '../docs/Somalia_AllIndicatorsAvailable_TerritorialRef_1960_2012_CCode_706.xlsx',\n",
       " 'South Africa': '../docs/SouthAfrica_AllIndicatorsAvailable_TerritorialRef_1990_2012_CCode_710.xlsx',\n",
       " 'South Sudan': '../docs/SouthSudan_AllIndicatorsAvailable_TerritorialRef_2011_2012_CCode_728.xlsx',\n",
       " 'Spain': '../docs/Spain_AllIndicatorsAvailable_TerritorialRef_1946_2012_CCode_724.xlsx',\n",
       " 'Sri Lanka': '../docs/SriLanka_AllIndicatorsAvailable_TerritorialRef_1948_2012_CCode_144.xlsx',\n",
       " 'State of Palestine': '',\n",
       " 'Sudan': '../docs/Sudan_AllIndicatorsAvailable_TerritorialRef_2011_2012_CCode_729.xlsx',\n",
       " 'Suriname': '../docs/Suriname_AllIndicatorsAvailable_TerritorialRef_1975_2012_CCode_740.xlsx',\n",
       " 'Svalbard and Jan Mayen Islands': '',\n",
       " 'Swaziland': '../docs/Swaziland_AllIndicatorsAvailable_TerritorialRef_1968_2012_CCode_748.xlsx',\n",
       " 'Sweden': '../docs/Sweden_AllIndicatorsAvailable_TerritorialRef_1946_2012_CCode_752.xlsx',\n",
       " 'Switzerland': '../docs/Switzerland_AllIndicatorsAvailable_TerritorialRef_1946_2012_CCode_756.xlsx',\n",
       " 'Syrian Arab Republic': '../docs/Syria_AllIndicatorsAvailable_TerritorialRef_1967_2012_CCode_760.xlsx',\n",
       " 'Tajikistan': '../docs/Tajikistan_AllIndicatorsAvailable_TerritorialRef_1991_2012_CCode_762.xlsx',\n",
       " 'Thailand': '../docs/Thailand_AllIndicatorsAvailable_TerritorialRef_1946_2012_CCode_764.xlsx',\n",
       " 'The former Yugoslav Republic of Macedonia': '../docs/Macedonia_AllIndicatorsAvailable_TerritorialRef_1993_2012_CCode_807.xlsx',\n",
       " 'Timor-Leste': '../docs/TimorLeste_AllIndicatorsAvailable_TerritorialRef_2002_2012_CCode_626.xlsx',\n",
       " 'Togo': '../docs/Togo_AllIndicatorsAvailable_TerritorialRef_1960_2012_CCode_768.xlsx',\n",
       " 'Tokelau': '',\n",
       " 'Tonga': '../docs/Tonga_AllIndicatorsAvailable_TerritorialRef_1999_2012_CCode_776.xlsx',\n",
       " 'Trinidad and Tobago': '../docs/TrinidadandTobago_AllIndicatorsAvailable_TerritorialRef_1962_2012_CCode_780.xlsx',\n",
       " 'Tunisia': '../docs/Tunisia_AllIndicatorsAvailable_TerritorialRef_1956_2012_CCode_788.xlsx',\n",
       " 'Turkey': '../docs/Turkey_AllIndicatorsAvailable_TerritorialRef_1946_2012_CCode_792.xlsx',\n",
       " 'Turkmenistan': '../docs/Turkmenistan_AllIndicatorsAvailable_TerritorialRef_1991_2012_CCode_795.xlsx',\n",
       " 'Turks and Caicos Islands': '',\n",
       " 'Tuvalu': '../docs/Tuvalu_AllIndicatorsAvailable_TerritorialRef_2000_2012_CCode_798.xlsx',\n",
       " 'USSR [1940-1991]': '../docs/USSR_1940_1991_all_data.xlsx',\n",
       " 'Uganda': '../docs/Uganda_AllIndicatorsAvailable_TerritorialRef_1962_2012_CCode_800.xlsx',\n",
       " 'Ukraine': '../docs/Ukraine_AllIndicatorsAvailable_TerritorialRef_1991_2012_CCode_804.xlsx',\n",
       " 'United Arab Emirates': '../docs/UnitedArabEmirates_AllIndicatorsAvailable_TerritorialRef_1971_2012_CCode_784.xlsx',\n",
       " 'United Kingdom of Great Britain and Northern Ireland': '../docs/UnitedKingdom_AllIndicatorsAvailable_TerritorialRef_1946_2012_CCode_826.xlsx',\n",
       " 'United Republic of Tanzania': '../docs/Tanzania_AllIndicatorsAvailable_TerritorialRef_1996_2012_CCode_834.xlsx',\n",
       " 'United States Virgin Islands': '',\n",
       " 'United States of America': '../docs/UnitedStates_AllIndicatorsAvailable_TerritorialRef_1946_2012_CCode_840.xlsx',\n",
       " 'Uruguay': '../docs/Uruguay_AllIndicatorsAvailable_TerritorialRef_1946_2012_CCode_858.xlsx',\n",
       " 'Uzbekistan': '../docs/Uzbekistan_AllIndicatorsAvailable_TerritorialRef_1991_2012_CCode_860.xlsx',\n",
       " 'Vanuatu': '../docs/Vanuatu_AllIndicatorsAvailable_TerritorialRef_1981_2012_CCode_548.xlsx',\n",
       " 'Venezuela (Bolivarian Republic of)': '../docs/Venezuela_AllIndicatorsAvailable_TerritorialRef_1946_2012_CCode_862.xlsx',\n",
       " 'Viet Nam': '../docs/Vietnam_AllIndicatorsAvailable_TerritorialRef_1975_2012_CCode_704.xlsx',\n",
       " 'Wallis and Futuna Islands': '',\n",
       " 'West Germany [1880-1945]': '../docs/WestGermany_1880_1945_all_data.xlsx',\n",
       " 'Western Sahara': '',\n",
       " 'Yemen': '../docs/Yemen_AllIndicatorsAvailable_TerritorialRef_2000_2012_CCode_887.xlsx',\n",
       " 'Yemen Arab Republic [1946-1990]': '../docs/YemenArabRepublic_1946_1990_all_data.xlsx',\n",
       " 'Yugoslavia [1920-1993]': '../docs/Yugoslavia_1920_1993_all_data.xlsx',\n",
       " 'Zambia': '../docs/Zambia_AllIndicatorsAvailable_TerritorialRef_1964_2012_CCode_894.xlsx',\n",
       " 'Zimbabwe': '../docs/Zimbabwe_AllIndicatorsAvailable_TerritorialRef_1965_2012_CCode_716.xlsx',\n",
       " 'Åland Islands': ''}"
      ]
     },
     "execution_count": 133,
     "metadata": {},
     "output_type": "execute_result"
    }
   ],
   "source": [
    "cc"
   ]
  },
  {
   "cell_type": "code",
   "execution_count": 134,
   "metadata": {},
   "outputs": [
    {
     "data": {
      "text/plain": [
       "257"
      ]
     },
     "execution_count": 134,
     "metadata": {},
     "output_type": "execute_result"
    }
   ],
   "source": [
    "len(cc)"
   ]
  },
  {
   "cell_type": "code",
   "execution_count": 21,
   "metadata": {},
   "outputs": [
    {
     "data": {
      "text/plain": [
       "575"
      ]
     },
     "execution_count": 21,
     "metadata": {},
     "output_type": "execute_result"
    }
   ],
   "source": [
    "elem = tree.xpath('//div[@class=\"col-sm-4\"]/div[@class = \"list-group\"]/p[@class = \"list-group-item\"]')\n",
    "len(elem)  #? why not match?"
   ]
  },
  {
   "cell_type": "code",
   "execution_count": 22,
   "metadata": {
    "collapsed": true
   },
   "outputs": [],
   "source": [
    "t = '''Cattle per Capita 1500 [7456] 2010\n",
    "Cropland per Capita 1500 [6226] 2010\n",
    "Goats per Capita 1500 [7037] 2010\n",
    "Pasture per Capita 1500 [5963] 2010\n",
    "Pigs per Capita 1500 [6841] 2010\n",
    "Sheep per Capita 1500 [6835] 2010\n",
    "Total Cattle 1500 [7457] 2010\n",
    "Total Cropland 1500 [6191] 2010\n",
    "Total Number of Goats 1500 [7037] 2010\n",
    "Total Number of Pigs 1500 [6841] 2010\n",
    "Total Number of Sheep 1500 [6835] 2010\n",
    "Total Pasture 1500 [5928] 2010\n",
    "Composite Measure of Wellbeing 1820 [3667] 2000\n",
    "Female life Expectancy at Birth 1750 [1058] 2000\n",
    "Height 1550 [1490] 2000\n",
    "Height Gini 1810 [678] 1980\n",
    "Infant Mortality 1810 [641] 2000\n",
    "Life Expectancy at Birth (Total) 1543 [12863] 2012\n",
    "Male life Expectancy at Birth 1750 [1058] 2000\n",
    "Total Population 1500 [3221] 2000\n",
    "Total Urban Population 1500 [1722] 2000\n",
    "Urbanization Ratio 1500 [1051] 2000\n",
    "Biodiversity - naturalness 1500 [6120] 2010\n",
    "CO2 Emissions per Capita 1750 [1724] 2010\n",
    "SO2 Emissions per Capita 1850 [2079] 2000\n",
    "Total CO2 Emissions 1750 [16446] 2008\n",
    "Total SO2 Emissions 1850 [2079] 2000\n",
    "Exchange Rates to UK Pound 1500 [15572] 2013\n",
    "Exchange Rates to US Dollar 1500 [11765] 2013\n",
    "Gold Standard 1800 [14359] 2010\n",
    "Long-Term Government Bond Yield 1727 [2849] 2011\n",
    "Total Gross Central Government Debt as a Percentage of GDP 1692 [7134] 2010\n",
    "Gender-equal Inheritance 1920 [78] 2000\n",
    "Gender Equality of Numeracy 1810 [1064] 1960\n",
    "Gender Equality Years of Education 1950 [140] 2000\n",
    "Historical Gender Equality Index 1900 [237] 2000\n",
    "Sex Ratio 1900 [219] 2000\n",
    "Share of Women in Parliament 1960 [1589] 2010\n",
    "Average Years of Education 1820 [1677] 2010\n",
    "Book Titles per Capita 1500 [8191] 2009\n",
    "Educational Inequality Gini Coefficient 1850 [12631] 2010\n",
    "Numeracy (Total) 1500 [1384] 1970\n",
    "Universities Founded 1502 [1424] 2013\n",
    "Armed Conflicts (Internal) 1500 [95198] 2000\n",
    "Armed Conflicts (International) 1500 [95198] 2000\n",
    "Competitiveness of Executive Recruitment (XRCOMP) 1800 [14792] 2012\n",
    "Competitiveness of Participations (PARCOMP) 1800 [14792] 2012\n",
    "Executive Constraints (XCONST) 1800 [14792] 2012\n",
    "Homicide Rates 1800 [6618] 2010\n",
    "Latent Democracy Variable 1850 [7842] 2000\n",
    "Openness of Executive Recruitment (XROPEN) 1800 [14792] 2012\n",
    "Political Competition 1810 [12762] 2000\n",
    "Political Participation 1810 [12883] 2000\n",
    "Polity2 Index 1800 [14593] 2012\n",
    "Polyarchy 1810 [12730] 2010\n",
    "Regulation of Chief Executive Recruitment (XRREG) 1800 [14792] 2012\n",
    "Regulation of Participation (PARREG) 1800 [14792] 2012\n",
    "Unified Democracy Scores (UDS) 1946 [8434] 2008\n",
    "Number of Days Lost in Labour Disputes 1927 [4531] 2013\n",
    "Number of Labour Disputes 1927 [4808] 2013\n",
    "Number of Workers Involved in Labour Disputes 1927 [4651] 2013\n",
    "GDP per Capita 1500 [12415] 2010\n",
    "Income Inequality 1820 [866] 2000\n",
    "Inflation 1500 [16676] 2010\n",
    "Labourers Real Wage 1820 [5053] 2008\n",
    "Aluminium Production 1850 [11736] 2012\n",
    "Bauxite Production 1880 [6384] 2012\n",
    "Copper Production 1700 [19472] 2012\n",
    "Gold Production 1681 [35855] 2012\n",
    "Iron Ore Production 1820 [12738] 2012\n",
    "Lead Production 1705 [12934] 2012\n",
    "Manganese Production 1835 [8722] 2012\n",
    "Nickel Production 1850 [5214] 2012\n",
    "Silver Production 1681 [26892] 2012\n",
    "Tin Production 1700 [13772] 2012\n",
    "Tungsten Production 1860 [16371] 2012\n",
    "Zinc Production\n",
    "'''"
   ]
  },
  {
   "cell_type": "code",
   "execution_count": 23,
   "metadata": {
    "collapsed": true
   },
   "outputs": [],
   "source": [
    "t = t.strip()"
   ]
  },
  {
   "cell_type": "code",
   "execution_count": 24,
   "metadata": {},
   "outputs": [
    {
     "data": {
      "text/plain": [
       "77"
      ]
     },
     "execution_count": 24,
     "metadata": {},
     "output_type": "execute_result"
    }
   ],
   "source": [
    "len(t.split('\\n'))"
   ]
  },
  {
   "cell_type": "code",
   "execution_count": 25,
   "metadata": {
    "collapsed": true
   },
   "outputs": [],
   "source": [
    "import os.path as osp"
   ]
  },
  {
   "cell_type": "code",
   "execution_count": 30,
   "metadata": {
    "collapsed": true
   },
   "outputs": [],
   "source": [
    "from urllib.parse import urlparse, urljoin"
   ]
  },
  {
   "cell_type": "code",
   "execution_count": 33,
   "metadata": {},
   "outputs": [],
   "source": [
    "p = urlparse(url)"
   ]
  },
  {
   "cell_type": "code",
   "execution_count": 34,
   "metadata": {},
   "outputs": [
    {
     "data": {
      "text/plain": [
       "'www.clio-infra.eu'"
      ]
     },
     "execution_count": 34,
     "metadata": {},
     "output_type": "execute_result"
    }
   ],
   "source": [
    "p.hostname"
   ]
  },
  {
   "cell_type": "code",
   "execution_count": 36,
   "metadata": {},
   "outputs": [
    {
     "data": {
      "text/plain": [
       "'https://www.clio-infra.eu/data/TotalCattle_Compact.xlsx'"
      ]
     },
     "execution_count": 36,
     "metadata": {},
     "output_type": "execute_result"
    }
   ],
   "source": [
    "urljoin(url, link)"
   ]
  },
  {
   "cell_type": "code",
   "execution_count": null,
   "metadata": {
    "collapsed": true
   },
   "outputs": [],
   "source": []
  },
  {
   "cell_type": "code",
   "execution_count": 40,
   "metadata": {},
   "outputs": [
    {
     "name": "stdout",
     "output_type": "stream",
     "text": [
      "../source/Cattle per Capita.xls, Done\n",
      "../source/Cropland per Capita.xls, Done\n",
      "../source/Goats per Capita.xls, Done\n",
      "../source/Pasture per Capita.xls, Done\n",
      "../source/Pigs per Capita.xls, Done\n",
      "../source/Sheep per Capita.xls, Done\n",
      "../source/Total Cattle.xls, Done\n",
      "../source/Total Cropland.xls, Done\n",
      "../source/Total Number of Goats.xls, Done\n",
      "../source/Total Number of Pigs.xls, Done\n",
      "../source/Total Number of Sheep.xls, Done\n",
      "../source/Total Pasture.xls, Done\n",
      "../source/Composite Measure .xls, Done\n",
      "../source/Female life Expectancy at Birth.xls, Done\n",
      "../source/Height.xls, Done\n",
      "../source/Height Gini.xls, Done\n",
      "../source/Infant Mortality.xls, Done\n",
      "../source/Life Expectancy at Birth (Total).xls, Done\n",
      "../source/Male life Expectancy at Birth.xls, Done\n",
      "../source/Total Population.xls, Done\n",
      "../source/Total Urban Population.xls, Done\n",
      "../source/Urbanization Ratio.xls, Done\n",
      "../source/Biodiversity - naturalness.xls, Done\n",
      "../source/CO2 Emissions per Capita.xls, Done\n",
      "../source/SO2 Emissions per Capita.xls, Done\n",
      "../source/Total CO2 Emissions.xls, Done\n",
      "../source/Total SO2 Emissions.xls, Done\n",
      "../source/Exchange Rates to UK Pound.xls, Done\n",
      "../source/Exchange Rates to US Dollar.xls, Done\n",
      "../source/Gold Standard.xls, Done\n",
      "../source/Long-Term Government .xls, Done\n",
      "../source/Total Gross Central Government .xls, Done\n",
      "../source/Gender-equal Inheritance.xls, Done\n",
      "../source/Gender Equality of Numeracy.xls, Done\n",
      "../source/Gender Equality Years .xls, Done\n",
      "../source/Historical Gender Equality Index.xls, Done\n",
      "../source/Sex Ratio.xls, Done\n",
      "../source/Share of Women in Parliament.xls, Done\n",
      "../source/Average Years of Education.xls, Done\n",
      "../source/Book Titles per Capita.xls, Done\n",
      "../source/Educational Inequality Gini .xls, Done\n",
      "../source/Numeracy (Total).xls, Done\n",
      "../source/Universities Founded.xls, Done\n",
      "../source/Armed Conflicts (Internal).xls, Done\n",
      "../source/Armed Conflicts (International).xls, Done\n",
      "../source/Competitiveness of Executive .xls, Done\n",
      "../source/Competitiveness of Participations .xls, Done\n",
      "../source/Executive Constraints .xls, Done\n",
      "../source/Homicide Rates.xls, Done\n",
      "../source/Latent Democracy Variable.xls, Done\n",
      "../source/Openness of Executive .xls, Done\n",
      "../source/Political Competition.xls, Done\n",
      "../source/Political Participation.xls, Done\n",
      "../source/Polity2 Index.xls, Done\n",
      "../source/Polyarchy.xls, Done\n",
      "../source/Regulation of Chief Executive .xls, Done\n",
      "../source/Regulation of Participation .xls, Done\n",
      "../source/Unified Democracy Scores .xls, Done\n",
      "../source/Number of Days Lost in .xls, Done\n",
      "../source/Number of Labour Disputes.xls, Done\n",
      "../source/Number of Workers Involved .xls, Done\n",
      "../source/GDP per Capita.xls, Done\n",
      "../source/Income Inequality.xls, Done\n",
      "../source/Inflation.xls, Done\n",
      "../source/Labourers Real Wage.xls, Done\n",
      "../source/Aluminium Production.xls, Done\n",
      "../source/Bauxite Production.xls, Done\n",
      "../source/Copper Production.xls, Done\n",
      "../source/Gold Production.xls, Done\n",
      "../source/Iron Ore Production.xls, Done\n",
      "../source/Lead Production.xls, Done\n",
      "../source/Manganese Production.xls, Done\n",
      "../source/Nickel Production.xls, Done\n",
      "../source/Silver Production.xls, Done\n",
      "../source/Tin Production.xls, Done\n",
      "../source/Tungsten Production.xls, Done\n",
      "../source/Zinc Production.xls, Done\n"
     ]
    }
   ],
   "source": [
    "for name, link in ind.items():\n",
    "    res = requests.get(urljoin(url, link), stream=True)\n",
    "#     print(res.url)\n",
    "    fn = f'../source/{name}.xls'\n",
    "    print(fn, end=', ')\n",
    "    with open(fn, 'wb') as f:\n",
    "        for chunk in res.iter_content(chunk_size=1024):\n",
    "            if chunk:\n",
    "                f.write(chunk)\n",
    "                f.flush()\n",
    "        f.close()\n",
    "    print('Done')"
   ]
  },
  {
   "cell_type": "code",
   "execution_count": null,
   "metadata": {
    "collapsed": true
   },
   "outputs": [],
   "source": []
  },
  {
   "cell_type": "code",
   "execution_count": 41,
   "metadata": {},
   "outputs": [
    {
     "data": {
      "text/plain": [
       "'../source/Zinc Production.xls'"
      ]
     },
     "execution_count": 41,
     "metadata": {},
     "output_type": "execute_result"
    }
   ],
   "source": [
    "fn"
   ]
  },
  {
   "cell_type": "code",
   "execution_count": 46,
   "metadata": {
    "collapsed": true
   },
   "outputs": [],
   "source": [
    "import pandas as pd\n",
    "import os"
   ]
  },
  {
   "cell_type": "code",
   "execution_count": 43,
   "metadata": {
    "collapsed": true
   },
   "outputs": [],
   "source": [
    "datapage = 'Data Long Format'\n",
    "metadatapage = 'Metadata'"
   ]
  },
  {
   "cell_type": "code",
   "execution_count": 47,
   "metadata": {
    "scrolled": true
   },
   "outputs": [],
   "source": [
    "data = pd.read_excel(fn, sheetname=datapage)\n",
    "metadata = pd.read_excel(fn, sheetname=metadatapage)"
   ]
  },
  {
   "cell_type": "code",
   "execution_count": 48,
   "metadata": {},
   "outputs": [
    {
     "data": {
      "text/html": [
       "<div>\n",
       "<style>\n",
       "    .dataframe thead tr:only-child th {\n",
       "        text-align: right;\n",
       "    }\n",
       "\n",
       "    .dataframe thead th {\n",
       "        text-align: left;\n",
       "    }\n",
       "\n",
       "    .dataframe tbody tr th {\n",
       "        vertical-align: top;\n",
       "    }\n",
       "</style>\n",
       "<table border=\"1\" class=\"dataframe\">\n",
       "  <thead>\n",
       "    <tr style=\"text-align: right;\">\n",
       "      <th></th>\n",
       "      <th>ccode</th>\n",
       "      <th>country.name</th>\n",
       "      <th>year</th>\n",
       "      <th>value</th>\n",
       "    </tr>\n",
       "  </thead>\n",
       "  <tbody>\n",
       "    <tr>\n",
       "      <th>0</th>\n",
       "      <td>12</td>\n",
       "      <td>Algeria</td>\n",
       "      <td>1705</td>\n",
       "      <td>0.0</td>\n",
       "    </tr>\n",
       "    <tr>\n",
       "      <th>1</th>\n",
       "      <td>32</td>\n",
       "      <td>Argentina</td>\n",
       "      <td>1705</td>\n",
       "      <td>0.0</td>\n",
       "    </tr>\n",
       "    <tr>\n",
       "      <th>2</th>\n",
       "      <td>51</td>\n",
       "      <td>Armenia</td>\n",
       "      <td>1705</td>\n",
       "      <td>0.0</td>\n",
       "    </tr>\n",
       "    <tr>\n",
       "      <th>3</th>\n",
       "      <td>36</td>\n",
       "      <td>Australia</td>\n",
       "      <td>1705</td>\n",
       "      <td>0.0</td>\n",
       "    </tr>\n",
       "    <tr>\n",
       "      <th>4</th>\n",
       "      <td>40</td>\n",
       "      <td>Austria</td>\n",
       "      <td>1705</td>\n",
       "      <td>0.0</td>\n",
       "    </tr>\n",
       "  </tbody>\n",
       "</table>\n",
       "</div>"
      ],
      "text/plain": [
       "   ccode country.name  year  value\n",
       "0     12      Algeria  1705    0.0\n",
       "1     32    Argentina  1705    0.0\n",
       "2     51      Armenia  1705    0.0\n",
       "3     36    Australia  1705    0.0\n",
       "4     40      Austria  1705    0.0"
      ]
     },
     "execution_count": 48,
     "metadata": {},
     "output_type": "execute_result"
    }
   ],
   "source": [
    "data.head()"
   ]
  },
  {
   "cell_type": "code",
   "execution_count": 49,
   "metadata": {},
   "outputs": [
    {
     "data": {
      "text/html": [
       "<div>\n",
       "<style>\n",
       "    .dataframe thead tr:only-child th {\n",
       "        text-align: right;\n",
       "    }\n",
       "\n",
       "    .dataframe thead th {\n",
       "        text-align: left;\n",
       "    }\n",
       "\n",
       "    .dataframe tbody tr th {\n",
       "        vertical-align: top;\n",
       "    }\n",
       "</style>\n",
       "<table border=\"1\" class=\"dataframe\">\n",
       "  <thead>\n",
       "    <tr style=\"text-align: right;\">\n",
       "      <th></th>\n",
       "      <th>Description</th>\n",
       "      <th>Value</th>\n",
       "    </tr>\n",
       "  </thead>\n",
       "  <tbody>\n",
       "    <tr>\n",
       "      <th>0</th>\n",
       "      <td>Downloaded from</td>\n",
       "      <td>https://www.clio-infra.eu/data/ZincProduction_...</td>\n",
       "    </tr>\n",
       "    <tr>\n",
       "      <th>1</th>\n",
       "      <td>Text Citation</td>\n",
       "      <td>Klein Goldewijk, Kees and Jonathan Fink-Jensen...</td>\n",
       "    </tr>\n",
       "    <tr>\n",
       "      <th>2</th>\n",
       "      <td>XML Citation</td>\n",
       "      <td>https://www.clio-infra.eu/citations/DOI-10622_...</td>\n",
       "    </tr>\n",
       "    <tr>\n",
       "      <th>3</th>\n",
       "      <td>RIS Citation</td>\n",
       "      <td>https://www.clio-infra.eu/Citations/DOI-10622_...</td>\n",
       "    </tr>\n",
       "    <tr>\n",
       "      <th>4</th>\n",
       "      <td>BIB Citation</td>\n",
       "      <td>https://www.clio-infra.eu/Citations/DOI-10622_...</td>\n",
       "    </tr>\n",
       "  </tbody>\n",
       "</table>\n",
       "</div>"
      ],
      "text/plain": [
       "       Description                                              Value\n",
       "0  Downloaded from  https://www.clio-infra.eu/data/ZincProduction_...\n",
       "1    Text Citation  Klein Goldewijk, Kees and Jonathan Fink-Jensen...\n",
       "2     XML Citation  https://www.clio-infra.eu/citations/DOI-10622_...\n",
       "3     RIS Citation  https://www.clio-infra.eu/Citations/DOI-10622_...\n",
       "4     BIB Citation  https://www.clio-infra.eu/Citations/DOI-10622_..."
      ]
     },
     "execution_count": 49,
     "metadata": {},
     "output_type": "execute_result"
    }
   ],
   "source": [
    "metadata"
   ]
  },
  {
   "cell_type": "code",
   "execution_count": 62,
   "metadata": {},
   "outputs": [
    {
     "data": {
      "text/html": [
       "<div>\n",
       "<style>\n",
       "    .dataframe thead tr:only-child th {\n",
       "        text-align: right;\n",
       "    }\n",
       "\n",
       "    .dataframe thead th {\n",
       "        text-align: left;\n",
       "    }\n",
       "\n",
       "    .dataframe tbody tr th {\n",
       "        vertical-align: top;\n",
       "    }\n",
       "</style>\n",
       "<table border=\"1\" class=\"dataframe\">\n",
       "  <thead>\n",
       "    <tr style=\"text-align: right;\">\n",
       "      <th>Description</th>\n",
       "      <th>Downloaded from</th>\n",
       "      <th>Text Citation</th>\n",
       "      <th>XML Citation</th>\n",
       "      <th>RIS Citation</th>\n",
       "      <th>BIB Citation</th>\n",
       "    </tr>\n",
       "  </thead>\n",
       "  <tbody>\n",
       "    <tr>\n",
       "      <th>0</th>\n",
       "      <td>https://www.clio-infra.eu/data/ZincProduction_...</td>\n",
       "      <td>Klein Goldewijk, Kees and Jonathan Fink-Jensen...</td>\n",
       "      <td>https://www.clio-infra.eu/citations/DOI-10622_...</td>\n",
       "      <td>https://www.clio-infra.eu/Citations/DOI-10622_...</td>\n",
       "      <td>https://www.clio-infra.eu/Citations/DOI-10622_...</td>\n",
       "    </tr>\n",
       "  </tbody>\n",
       "</table>\n",
       "</div>"
      ],
      "text/plain": [
       "Description                                    Downloaded from  \\\n",
       "0            https://www.clio-infra.eu/data/ZincProduction_...   \n",
       "\n",
       "Description                                      Text Citation  \\\n",
       "0            Klein Goldewijk, Kees and Jonathan Fink-Jensen...   \n",
       "\n",
       "Description                                       XML Citation  \\\n",
       "0            https://www.clio-infra.eu/citations/DOI-10622_...   \n",
       "\n",
       "Description                                       RIS Citation  \\\n",
       "0            https://www.clio-infra.eu/Citations/DOI-10622_...   \n",
       "\n",
       "Description                                       BIB Citation  \n",
       "0            https://www.clio-infra.eu/Citations/DOI-10622_...  "
      ]
     },
     "execution_count": 62,
     "metadata": {},
     "output_type": "execute_result"
    }
   ],
   "source": [
    "metadata.set_index('Description').T.reset_index(drop=True)"
   ]
  },
  {
   "cell_type": "code",
   "execution_count": 51,
   "metadata": {
    "collapsed": true
   },
   "outputs": [],
   "source": [
    "geo_data = data[['ccode', 'country.name']].drop_duplicates()"
   ]
  },
  {
   "cell_type": "code",
   "execution_count": 54,
   "metadata": {},
   "outputs": [
    {
     "data": {
      "text/html": [
       "<div>\n",
       "<style>\n",
       "    .dataframe thead tr:only-child th {\n",
       "        text-align: right;\n",
       "    }\n",
       "\n",
       "    .dataframe thead th {\n",
       "        text-align: left;\n",
       "    }\n",
       "\n",
       "    .dataframe tbody tr th {\n",
       "        vertical-align: top;\n",
       "    }\n",
       "</style>\n",
       "<table border=\"1\" class=\"dataframe\">\n",
       "  <thead>\n",
       "    <tr style=\"text-align: right;\">\n",
       "      <th></th>\n",
       "      <th>ccode</th>\n",
       "      <th>country.name</th>\n",
       "    </tr>\n",
       "  </thead>\n",
       "  <tbody>\n",
       "    <tr>\n",
       "      <th>0</th>\n",
       "      <td>12</td>\n",
       "      <td>Algeria</td>\n",
       "    </tr>\n",
       "    <tr>\n",
       "      <th>1</th>\n",
       "      <td>32</td>\n",
       "      <td>Argentina</td>\n",
       "    </tr>\n",
       "    <tr>\n",
       "      <th>2</th>\n",
       "      <td>51</td>\n",
       "      <td>Armenia</td>\n",
       "    </tr>\n",
       "    <tr>\n",
       "      <th>3</th>\n",
       "      <td>36</td>\n",
       "      <td>Australia</td>\n",
       "    </tr>\n",
       "    <tr>\n",
       "      <th>4</th>\n",
       "      <td>40</td>\n",
       "      <td>Austria</td>\n",
       "    </tr>\n",
       "  </tbody>\n",
       "</table>\n",
       "</div>"
      ],
      "text/plain": [
       "   ccode country.name\n",
       "0     12      Algeria\n",
       "1     32    Argentina\n",
       "2     51      Armenia\n",
       "3     36    Australia\n",
       "4     40      Austria"
      ]
     },
     "execution_count": 54,
     "metadata": {},
     "output_type": "execute_result"
    }
   ],
   "source": [
    "geo_data.head()"
   ]
  },
  {
   "cell_type": "code",
   "execution_count": 55,
   "metadata": {
    "collapsed": true
   },
   "outputs": [],
   "source": [
    "from ddf_utils.str import to_concept_id"
   ]
  },
  {
   "cell_type": "code",
   "execution_count": 59,
   "metadata": {},
   "outputs": [
    {
     "data": {
      "text/plain": [
       "('Zinc Production', '.xls')"
      ]
     },
     "execution_count": 59,
     "metadata": {},
     "output_type": "execute_result"
    }
   ],
   "source": [
    "osp.splitext(osp.basename(fn))"
   ]
  },
  {
   "cell_type": "code",
   "execution_count": null,
   "metadata": {
    "collapsed": true
   },
   "outputs": [],
   "source": []
  },
  {
   "cell_type": "code",
   "execution_count": null,
   "metadata": {
    "collapsed": true
   },
   "outputs": [],
   "source": []
  },
  {
   "cell_type": "code",
   "execution_count": 189,
   "metadata": {
    "collapsed": true
   },
   "outputs": [],
   "source": [
    "def process_file(fn):\n",
    "    data = pd.read_excel(fn, sheetname=datapage)\n",
    "    metadata = pd.read_excel(fn, sheetname=metadatapage)\n",
    "    geo_data = data[['ccode', 'country.name']].drop_duplicates()\n",
    "    indicator_data = data[['country.name', 'year', 'value']].copy()\n",
    "    \n",
    "    concept_name = osp.splitext(osp.basename(fn))[0]\n",
    "    concept_id = to_concept_id(concept_name)\n",
    "    \n",
    "    metadata = metadata.set_index('Description').T.reset_index(drop=True)\n",
    "    metadata['concept'] = concept_id\n",
    "    metadata['concept_type'] = 'measure'\n",
    "    metadata['name'] = concept_name\n",
    "    metadata = metadata.set_index('concept')\n",
    "    \n",
    "    indicator_data.columns = ['country', 'year', concept_id]\n",
    "    indicator_data['country'] = indicator_data['country'].map(to_concept_id)\n",
    "    indicator_data = indicator_data.set_index(['country', 'year'])\n",
    "    \n",
    "    if indicator_data.index.has_duplicates:\n",
    "        print(fn)\n",
    "        print(indicator_data.index[indicator_data.index.duplicated()])\n",
    "        indicator_data = indicator_data[~indicator_data.index.duplicated(keep='first')]\n",
    "    \n",
    "    geo_data.columns = ['ccode', 'name']\n",
    "    geo_data['country'] = geo_data.name.map(to_concept_id)\n",
    "    geo_data = geo_data.set_index('country')\n",
    "    \n",
    "    return (metadata, geo_data, indicator_data)"
   ]
  },
  {
   "cell_type": "code",
   "execution_count": 190,
   "metadata": {
    "scrolled": false
   },
   "outputs": [
    {
     "name": "stdout",
     "output_type": "stream",
     "text": [
      "../source/Labourers Real Wage.xls\n",
      "MultiIndex(levels=[['algeria', 'antigua_and_barbuda', 'argentina', 'australia', 'austria', 'bahamas', 'bangladesh', 'barbados', 'belgium', 'belize', 'benin', 'bolivia', 'botswana', 'brazil', 'burkina_faso', 'burundi', 'canada', 'cape_verde', 'central_african_republic', 'chad', 'chile', 'china', 'colombia', 'comoros', 'congo', 'congo_drc', 'costa_rica', 'cote_d_ivoire', 'cyprus', 'czech_republic', 'denmark', 'djibouti', 'dominica', 'dominican_republic', 'ecuador', 'egypt', 'el_salvador', 'estonia', 'fiji', 'finland', 'france', 'gabon', 'germany', 'ghana', 'greece', 'grenada', 'guatemala', 'guinea', 'guinea_bissau', 'guyana', 'haiti', 'honduras', 'hungary', 'iceland', 'india', 'iran', 'ireland', 'israel', 'italy', 'jamaica', 'japan', 'jordan', 'kenya', 'kuwait', 'laos', 'latvia', 'lebanon', 'lesotho', 'liberia', 'luxembourg', 'madagascar', 'malawi', 'malaysia', 'mali', 'malta', 'mauritius', 'mexico', 'morocco', 'myanmar', 'nepal', 'netherlands', 'new_zealand', 'nicaragua', 'niger', 'nigeria', 'norway', 'pakistan', 'panama', 'papua_new_guinea', 'paraguay', 'peru', 'philippines', 'poland', 'portugal', 'qatar', 'romania', 'russia', 'rwanda', 'samoa', 'senegal', 'seychelles', 'sierra_leone', 'singapore', 'solomon_is', 'somalia', 'south_africa', 'south_korea', 'spain', 'sri_lanka', 'st_kitts_and_nevis', 'st_lucia', 'st_vincent_and_the_grenadines', 'sudan', 'suriname', 'swaziland', 'sweden', 'switzerland', 'syria', 'taiwan', 'thailand', 'the_gambia', 'togo', 'tonga', 'trinidad_and_tobago', 'tunisia', 'turkey', 'uganda', 'united_kingdom', 'united_states', 'uruguay', 'venezuela', 'zambia', 'zimbabwe'], [1820, 1821, 1822, 1823, 1824, 1825, 1826, 1827, 1828, 1829, 1830, 1831, 1832, 1833, 1834, 1835, 1836, 1837, 1838, 1839, 1840, 1841, 1842, 1843, 1844, 1845, 1846, 1847, 1848, 1849, 1850, 1851, 1852, 1853, 1854, 1855, 1856, 1857, 1858, 1859, 1860, 1861, 1862, 1863, 1864, 1865, 1866, 1867, 1868, 1869, 1870, 1871, 1872, 1873, 1874, 1875, 1876, 1877, 1878, 1879, 1880, 1881, 1882, 1883, 1884, 1885, 1886, 1887, 1888, 1889, 1890, 1891, 1892, 1893, 1894, 1895, 1896, 1897, 1898, 1899, 1900, 1901, 1902, 1903, 1904, 1905, 1906, 1907, 1908, 1909, 1910, 1911, 1912, 1913, 1914, 1915, 1916, 1917, 1918, 1919, 1920, 1921, 1922, 1923, 1924, 1925, 1926, 1927, 1928, 1929, 1930, 1931, 1932, 1933, 1934, 1935, 1936, 1937, 1938, 1939, 1940, 1941, 1942, 1943, 1944, 1945, 1946, 1947, 1948, 1949, 1950, 1951, 1952, 1953, 1954, 1955, 1956, 1957, 1958, 1959, 1960, 1961, 1962, 1963, 1964, 1965, 1966, 1967, 1968, 1969, 1970, 1971, 1972, 1973, 1974, 1975, 1976, 1977, 1978, 1979, 1980, 1981, 1982, 1983, 1984, 1985, 1986, 1987, 1988, 1989, 1990, 1991, 1992, 1993, 1994, 1995, 1996, 1997, 1998, 1999, 2000, 2001, 2002, 2003, 2004, 2005, 2006, 2007, 2008]],\n",
      "           labels=[[16, 16, 77, 77], [126, 127, 136, 137]],\n",
      "           names=['country', 'year'])\n"
     ]
    }
   ],
   "source": [
    "fn = '../source/Labourers Real Wage.xls'\n",
    "\n",
    "d1, d2, d3 = process_file(fn)"
   ]
  },
  {
   "cell_type": "code",
   "execution_count": 117,
   "metadata": {},
   "outputs": [
    {
     "data": {
      "text/plain": [
       "'zinc_production'"
      ]
     },
     "execution_count": 117,
     "metadata": {},
     "output_type": "execute_result"
    }
   ],
   "source": [
    "d1.index[0]"
   ]
  },
  {
   "cell_type": "code",
   "execution_count": 191,
   "metadata": {},
   "outputs": [
    {
     "data": {
      "text/html": [
       "<div>\n",
       "<style>\n",
       "    .dataframe thead tr:only-child th {\n",
       "        text-align: right;\n",
       "    }\n",
       "\n",
       "    .dataframe thead th {\n",
       "        text-align: left;\n",
       "    }\n",
       "\n",
       "    .dataframe tbody tr th {\n",
       "        vertical-align: top;\n",
       "    }\n",
       "</style>\n",
       "<table border=\"1\" class=\"dataframe\">\n",
       "  <thead>\n",
       "    <tr style=\"text-align: right;\">\n",
       "      <th></th>\n",
       "      <th></th>\n",
       "      <th>labourers_real_wage</th>\n",
       "    </tr>\n",
       "    <tr>\n",
       "      <th>country</th>\n",
       "      <th>year</th>\n",
       "      <th></th>\n",
       "    </tr>\n",
       "  </thead>\n",
       "  <tbody>\n",
       "    <tr>\n",
       "      <th>belgium</th>\n",
       "      <th>1820</th>\n",
       "      <td>16.627341</td>\n",
       "    </tr>\n",
       "    <tr>\n",
       "      <th>china</th>\n",
       "      <th>1820</th>\n",
       "      <td>3.710934</td>\n",
       "    </tr>\n",
       "    <tr>\n",
       "      <th>france</th>\n",
       "      <th>1820</th>\n",
       "      <td>18.241352</td>\n",
       "    </tr>\n",
       "    <tr>\n",
       "      <th>germany</th>\n",
       "      <th>1820</th>\n",
       "      <td>8.426688</td>\n",
       "    </tr>\n",
       "    <tr>\n",
       "      <th>italy</th>\n",
       "      <th>1820</th>\n",
       "      <td>3.584328</td>\n",
       "    </tr>\n",
       "  </tbody>\n",
       "</table>\n",
       "</div>"
      ],
      "text/plain": [
       "              labourers_real_wage\n",
       "country year                     \n",
       "belgium 1820            16.627341\n",
       "china   1820             3.710934\n",
       "france  1820            18.241352\n",
       "germany 1820             8.426688\n",
       "italy   1820             3.584328"
      ]
     },
     "execution_count": 191,
     "metadata": {},
     "output_type": "execute_result"
    }
   ],
   "source": [
    "d3.head()"
   ]
  },
  {
   "cell_type": "code",
   "execution_count": null,
   "metadata": {
    "collapsed": true
   },
   "outputs": [],
   "source": []
  },
  {
   "cell_type": "code",
   "execution_count": 121,
   "metadata": {
    "collapsed": true
   },
   "outputs": [],
   "source": [
    "concepts = []\n",
    "geos = []"
   ]
  },
  {
   "cell_type": "code",
   "execution_count": 192,
   "metadata": {},
   "outputs": [
    {
     "name": "stdout",
     "output_type": "stream",
     "text": [
      "../source/Labourers Real Wage.xls\n",
      "MultiIndex(levels=[['algeria', 'antigua_and_barbuda', 'argentina', 'australia', 'austria', 'bahamas', 'bangladesh', 'barbados', 'belgium', 'belize', 'benin', 'bolivia', 'botswana', 'brazil', 'burkina_faso', 'burundi', 'canada', 'cape_verde', 'central_african_republic', 'chad', 'chile', 'china', 'colombia', 'comoros', 'congo', 'congo_drc', 'costa_rica', 'cote_d_ivoire', 'cyprus', 'czech_republic', 'denmark', 'djibouti', 'dominica', 'dominican_republic', 'ecuador', 'egypt', 'el_salvador', 'estonia', 'fiji', 'finland', 'france', 'gabon', 'germany', 'ghana', 'greece', 'grenada', 'guatemala', 'guinea', 'guinea_bissau', 'guyana', 'haiti', 'honduras', 'hungary', 'iceland', 'india', 'iran', 'ireland', 'israel', 'italy', 'jamaica', 'japan', 'jordan', 'kenya', 'kuwait', 'laos', 'latvia', 'lebanon', 'lesotho', 'liberia', 'luxembourg', 'madagascar', 'malawi', 'malaysia', 'mali', 'malta', 'mauritius', 'mexico', 'morocco', 'myanmar', 'nepal', 'netherlands', 'new_zealand', 'nicaragua', 'niger', 'nigeria', 'norway', 'pakistan', 'panama', 'papua_new_guinea', 'paraguay', 'peru', 'philippines', 'poland', 'portugal', 'qatar', 'romania', 'russia', 'rwanda', 'samoa', 'senegal', 'seychelles', 'sierra_leone', 'singapore', 'solomon_is', 'somalia', 'south_africa', 'south_korea', 'spain', 'sri_lanka', 'st_kitts_and_nevis', 'st_lucia', 'st_vincent_and_the_grenadines', 'sudan', 'suriname', 'swaziland', 'sweden', 'switzerland', 'syria', 'taiwan', 'thailand', 'the_gambia', 'togo', 'tonga', 'trinidad_and_tobago', 'tunisia', 'turkey', 'uganda', 'united_kingdom', 'united_states', 'uruguay', 'venezuela', 'zambia', 'zimbabwe'], [1820, 1821, 1822, 1823, 1824, 1825, 1826, 1827, 1828, 1829, 1830, 1831, 1832, 1833, 1834, 1835, 1836, 1837, 1838, 1839, 1840, 1841, 1842, 1843, 1844, 1845, 1846, 1847, 1848, 1849, 1850, 1851, 1852, 1853, 1854, 1855, 1856, 1857, 1858, 1859, 1860, 1861, 1862, 1863, 1864, 1865, 1866, 1867, 1868, 1869, 1870, 1871, 1872, 1873, 1874, 1875, 1876, 1877, 1878, 1879, 1880, 1881, 1882, 1883, 1884, 1885, 1886, 1887, 1888, 1889, 1890, 1891, 1892, 1893, 1894, 1895, 1896, 1897, 1898, 1899, 1900, 1901, 1902, 1903, 1904, 1905, 1906, 1907, 1908, 1909, 1910, 1911, 1912, 1913, 1914, 1915, 1916, 1917, 1918, 1919, 1920, 1921, 1922, 1923, 1924, 1925, 1926, 1927, 1928, 1929, 1930, 1931, 1932, 1933, 1934, 1935, 1936, 1937, 1938, 1939, 1940, 1941, 1942, 1943, 1944, 1945, 1946, 1947, 1948, 1949, 1950, 1951, 1952, 1953, 1954, 1955, 1956, 1957, 1958, 1959, 1960, 1961, 1962, 1963, 1964, 1965, 1966, 1967, 1968, 1969, 1970, 1971, 1972, 1973, 1974, 1975, 1976, 1977, 1978, 1979, 1980, 1981, 1982, 1983, 1984, 1985, 1986, 1987, 1988, 1989, 1990, 1991, 1992, 1993, 1994, 1995, 1996, 1997, 1998, 1999, 2000, 2001, 2002, 2003, 2004, 2005, 2006, 2007, 2008]],\n",
      "           labels=[[16, 16, 77, 77], [126, 127, 136, 137]],\n",
      "           names=['country', 'year'])\n"
     ]
    },
    {
     "ename": "XLRDError",
     "evalue": "Unsupported format, or corrupt file: Expected BOF record; found b'\\x0bSemio Z'",
     "output_type": "error",
     "traceback": [
      "\u001b[0;31m---------------------------------------------------------------------------\u001b[0m",
      "\u001b[0;31mXLRDError\u001b[0m                                 Traceback (most recent call last)",
      "\u001b[0;32m<ipython-input-192-d1cc19451eb1>\u001b[0m in \u001b[0;36m<module>\u001b[0;34m()\u001b[0m\n\u001b[1;32m      1\u001b[0m \u001b[0;32mfor\u001b[0m \u001b[0mfn\u001b[0m \u001b[0;32min\u001b[0m \u001b[0mos\u001b[0m\u001b[0;34m.\u001b[0m\u001b[0mlistdir\u001b[0m\u001b[0;34m(\u001b[0m\u001b[0;34m'../source'\u001b[0m\u001b[0;34m)\u001b[0m\u001b[0;34m:\u001b[0m\u001b[0;34m\u001b[0m\u001b[0m\n\u001b[1;32m      2\u001b[0m     \u001b[0;32mif\u001b[0m \u001b[0mfn\u001b[0m\u001b[0;34m.\u001b[0m\u001b[0mendswith\u001b[0m\u001b[0;34m(\u001b[0m\u001b[0;34m'xls'\u001b[0m\u001b[0;34m)\u001b[0m\u001b[0;34m:\u001b[0m\u001b[0;34m\u001b[0m\u001b[0m\n\u001b[0;32m----> 3\u001b[0;31m         \u001b[0mcdf\u001b[0m\u001b[0;34m,\u001b[0m \u001b[0mgeo\u001b[0m\u001b[0;34m,\u001b[0m \u001b[0mind\u001b[0m \u001b[0;34m=\u001b[0m \u001b[0mprocess_file\u001b[0m\u001b[0;34m(\u001b[0m\u001b[0mosp\u001b[0m\u001b[0;34m.\u001b[0m\u001b[0mjoin\u001b[0m\u001b[0;34m(\u001b[0m\u001b[0;34m'../source'\u001b[0m\u001b[0;34m,\u001b[0m \u001b[0mfn\u001b[0m\u001b[0;34m)\u001b[0m\u001b[0;34m)\u001b[0m\u001b[0;34m\u001b[0m\u001b[0m\n\u001b[0m\u001b[1;32m      4\u001b[0m         \u001b[0mind\u001b[0m\u001b[0;34m.\u001b[0m\u001b[0mto_csv\u001b[0m\u001b[0;34m(\u001b[0m\u001b[0mosp\u001b[0m\u001b[0;34m.\u001b[0m\u001b[0mjoin\u001b[0m\u001b[0;34m(\u001b[0m\u001b[0;34m'../../'\u001b[0m\u001b[0;34m,\u001b[0m \u001b[0;34mf'ddf--datapoints--{cdf.index[0]}--by--country--year.csv'\u001b[0m\u001b[0;34m)\u001b[0m\u001b[0;34m)\u001b[0m\u001b[0;34m\u001b[0m\u001b[0m\n\u001b[1;32m      5\u001b[0m         \u001b[0mconcepts\u001b[0m\u001b[0;34m.\u001b[0m\u001b[0mappend\u001b[0m\u001b[0;34m(\u001b[0m\u001b[0mcdf\u001b[0m\u001b[0;34m)\u001b[0m\u001b[0;34m\u001b[0m\u001b[0m\n",
      "\u001b[0;32m<ipython-input-189-42eefc69938d>\u001b[0m in \u001b[0;36mprocess_file\u001b[0;34m(fn)\u001b[0m\n\u001b[1;32m      1\u001b[0m \u001b[0;32mdef\u001b[0m \u001b[0mprocess_file\u001b[0m\u001b[0;34m(\u001b[0m\u001b[0mfn\u001b[0m\u001b[0;34m)\u001b[0m\u001b[0;34m:\u001b[0m\u001b[0;34m\u001b[0m\u001b[0m\n\u001b[0;32m----> 2\u001b[0;31m     \u001b[0mdata\u001b[0m \u001b[0;34m=\u001b[0m \u001b[0mpd\u001b[0m\u001b[0;34m.\u001b[0m\u001b[0mread_excel\u001b[0m\u001b[0;34m(\u001b[0m\u001b[0mfn\u001b[0m\u001b[0;34m,\u001b[0m \u001b[0msheetname\u001b[0m\u001b[0;34m=\u001b[0m\u001b[0mdatapage\u001b[0m\u001b[0;34m)\u001b[0m\u001b[0;34m\u001b[0m\u001b[0m\n\u001b[0m\u001b[1;32m      3\u001b[0m     \u001b[0mmetadata\u001b[0m \u001b[0;34m=\u001b[0m \u001b[0mpd\u001b[0m\u001b[0;34m.\u001b[0m\u001b[0mread_excel\u001b[0m\u001b[0;34m(\u001b[0m\u001b[0mfn\u001b[0m\u001b[0;34m,\u001b[0m \u001b[0msheetname\u001b[0m\u001b[0;34m=\u001b[0m\u001b[0mmetadatapage\u001b[0m\u001b[0;34m)\u001b[0m\u001b[0;34m\u001b[0m\u001b[0m\n\u001b[1;32m      4\u001b[0m     \u001b[0mgeo_data\u001b[0m \u001b[0;34m=\u001b[0m \u001b[0mdata\u001b[0m\u001b[0;34m[\u001b[0m\u001b[0;34m[\u001b[0m\u001b[0;34m'ccode'\u001b[0m\u001b[0;34m,\u001b[0m \u001b[0;34m'country.name'\u001b[0m\u001b[0;34m]\u001b[0m\u001b[0;34m]\u001b[0m\u001b[0;34m.\u001b[0m\u001b[0mdrop_duplicates\u001b[0m\u001b[0;34m(\u001b[0m\u001b[0;34m)\u001b[0m\u001b[0;34m\u001b[0m\u001b[0m\n\u001b[1;32m      5\u001b[0m     \u001b[0mindicator_data\u001b[0m \u001b[0;34m=\u001b[0m \u001b[0mdata\u001b[0m\u001b[0;34m[\u001b[0m\u001b[0;34m[\u001b[0m\u001b[0;34m'country.name'\u001b[0m\u001b[0;34m,\u001b[0m \u001b[0;34m'year'\u001b[0m\u001b[0;34m,\u001b[0m \u001b[0;34m'value'\u001b[0m\u001b[0;34m]\u001b[0m\u001b[0;34m]\u001b[0m\u001b[0;34m.\u001b[0m\u001b[0mcopy\u001b[0m\u001b[0;34m(\u001b[0m\u001b[0;34m)\u001b[0m\u001b[0;34m\u001b[0m\u001b[0m\n",
      "\u001b[0;32m~/.pyenv/versions/3.6.2/lib/python3.6/site-packages/pandas/io/excel.py\u001b[0m in \u001b[0;36mread_excel\u001b[0;34m(io, sheetname, header, skiprows, skip_footer, index_col, names, parse_cols, parse_dates, date_parser, na_values, thousands, convert_float, has_index_names, converters, dtype, true_values, false_values, engine, squeeze, **kwds)\u001b[0m\n\u001b[1;32m    201\u001b[0m \u001b[0;34m\u001b[0m\u001b[0m\n\u001b[1;32m    202\u001b[0m     \u001b[0;32mif\u001b[0m \u001b[0;32mnot\u001b[0m \u001b[0misinstance\u001b[0m\u001b[0;34m(\u001b[0m\u001b[0mio\u001b[0m\u001b[0;34m,\u001b[0m \u001b[0mExcelFile\u001b[0m\u001b[0;34m)\u001b[0m\u001b[0;34m:\u001b[0m\u001b[0;34m\u001b[0m\u001b[0m\n\u001b[0;32m--> 203\u001b[0;31m         \u001b[0mio\u001b[0m \u001b[0;34m=\u001b[0m \u001b[0mExcelFile\u001b[0m\u001b[0;34m(\u001b[0m\u001b[0mio\u001b[0m\u001b[0;34m,\u001b[0m \u001b[0mengine\u001b[0m\u001b[0;34m=\u001b[0m\u001b[0mengine\u001b[0m\u001b[0;34m)\u001b[0m\u001b[0;34m\u001b[0m\u001b[0m\n\u001b[0m\u001b[1;32m    204\u001b[0m \u001b[0;34m\u001b[0m\u001b[0m\n\u001b[1;32m    205\u001b[0m     return io._parse_excel(\n",
      "\u001b[0;32m~/.pyenv/versions/3.6.2/lib/python3.6/site-packages/pandas/io/excel.py\u001b[0m in \u001b[0;36m__init__\u001b[0;34m(self, io, **kwds)\u001b[0m\n\u001b[1;32m    258\u001b[0m             \u001b[0mself\u001b[0m\u001b[0;34m.\u001b[0m\u001b[0mbook\u001b[0m \u001b[0;34m=\u001b[0m \u001b[0mxlrd\u001b[0m\u001b[0;34m.\u001b[0m\u001b[0mopen_workbook\u001b[0m\u001b[0;34m(\u001b[0m\u001b[0mfile_contents\u001b[0m\u001b[0;34m=\u001b[0m\u001b[0mdata\u001b[0m\u001b[0;34m)\u001b[0m\u001b[0;34m\u001b[0m\u001b[0m\n\u001b[1;32m    259\u001b[0m         \u001b[0;32melif\u001b[0m \u001b[0misinstance\u001b[0m\u001b[0;34m(\u001b[0m\u001b[0mio\u001b[0m\u001b[0;34m,\u001b[0m \u001b[0mcompat\u001b[0m\u001b[0;34m.\u001b[0m\u001b[0mstring_types\u001b[0m\u001b[0;34m)\u001b[0m\u001b[0;34m:\u001b[0m\u001b[0;34m\u001b[0m\u001b[0m\n\u001b[0;32m--> 260\u001b[0;31m             \u001b[0mself\u001b[0m\u001b[0;34m.\u001b[0m\u001b[0mbook\u001b[0m \u001b[0;34m=\u001b[0m \u001b[0mxlrd\u001b[0m\u001b[0;34m.\u001b[0m\u001b[0mopen_workbook\u001b[0m\u001b[0;34m(\u001b[0m\u001b[0mio\u001b[0m\u001b[0;34m)\u001b[0m\u001b[0;34m\u001b[0m\u001b[0m\n\u001b[0m\u001b[1;32m    261\u001b[0m         \u001b[0;32melse\u001b[0m\u001b[0;34m:\u001b[0m\u001b[0;34m\u001b[0m\u001b[0m\n\u001b[1;32m    262\u001b[0m             raise ValueError('Must explicitly set engine if not passing in'\n",
      "\u001b[0;32m~/.pyenv/versions/3.6.2/lib/python3.6/site-packages/xlrd/__init__.py\u001b[0m in \u001b[0;36mopen_workbook\u001b[0;34m(filename, logfile, verbosity, use_mmap, file_contents, encoding_override, formatting_info, on_demand, ragged_rows)\u001b[0m\n\u001b[1;32m    160\u001b[0m         \u001b[0mformatting_info\u001b[0m\u001b[0;34m=\u001b[0m\u001b[0mformatting_info\u001b[0m\u001b[0;34m,\u001b[0m\u001b[0;34m\u001b[0m\u001b[0m\n\u001b[1;32m    161\u001b[0m         \u001b[0mon_demand\u001b[0m\u001b[0;34m=\u001b[0m\u001b[0mon_demand\u001b[0m\u001b[0;34m,\u001b[0m\u001b[0;34m\u001b[0m\u001b[0m\n\u001b[0;32m--> 162\u001b[0;31m         \u001b[0mragged_rows\u001b[0m\u001b[0;34m=\u001b[0m\u001b[0mragged_rows\u001b[0m\u001b[0;34m,\u001b[0m\u001b[0;34m\u001b[0m\u001b[0m\n\u001b[0m\u001b[1;32m    163\u001b[0m         )\n\u001b[1;32m    164\u001b[0m     \u001b[0;32mreturn\u001b[0m \u001b[0mbk\u001b[0m\u001b[0;34m\u001b[0m\u001b[0m\n",
      "\u001b[0;32m~/.pyenv/versions/3.6.2/lib/python3.6/site-packages/xlrd/book.py\u001b[0m in \u001b[0;36mopen_workbook_xls\u001b[0;34m(filename, logfile, verbosity, use_mmap, file_contents, encoding_override, formatting_info, on_demand, ragged_rows)\u001b[0m\n\u001b[1;32m     89\u001b[0m         \u001b[0mt1\u001b[0m \u001b[0;34m=\u001b[0m \u001b[0mtime\u001b[0m\u001b[0;34m.\u001b[0m\u001b[0mclock\u001b[0m\u001b[0;34m(\u001b[0m\u001b[0;34m)\u001b[0m\u001b[0;34m\u001b[0m\u001b[0m\n\u001b[1;32m     90\u001b[0m         \u001b[0mbk\u001b[0m\u001b[0;34m.\u001b[0m\u001b[0mload_time_stage_1\u001b[0m \u001b[0;34m=\u001b[0m \u001b[0mt1\u001b[0m \u001b[0;34m-\u001b[0m \u001b[0mt0\u001b[0m\u001b[0;34m\u001b[0m\u001b[0m\n\u001b[0;32m---> 91\u001b[0;31m         \u001b[0mbiff_version\u001b[0m \u001b[0;34m=\u001b[0m \u001b[0mbk\u001b[0m\u001b[0;34m.\u001b[0m\u001b[0mgetbof\u001b[0m\u001b[0;34m(\u001b[0m\u001b[0mXL_WORKBOOK_GLOBALS\u001b[0m\u001b[0;34m)\u001b[0m\u001b[0;34m\u001b[0m\u001b[0m\n\u001b[0m\u001b[1;32m     92\u001b[0m         \u001b[0;32mif\u001b[0m \u001b[0;32mnot\u001b[0m \u001b[0mbiff_version\u001b[0m\u001b[0;34m:\u001b[0m\u001b[0;34m\u001b[0m\u001b[0m\n\u001b[1;32m     93\u001b[0m             \u001b[0;32mraise\u001b[0m \u001b[0mXLRDError\u001b[0m\u001b[0;34m(\u001b[0m\u001b[0;34m\"Can't determine file's BIFF version\"\u001b[0m\u001b[0;34m)\u001b[0m\u001b[0;34m\u001b[0m\u001b[0m\n",
      "\u001b[0;32m~/.pyenv/versions/3.6.2/lib/python3.6/site-packages/xlrd/book.py\u001b[0m in \u001b[0;36mgetbof\u001b[0;34m(self, rqd_stream)\u001b[0m\n\u001b[1;32m   1269\u001b[0m             \u001b[0mbof_error\u001b[0m\u001b[0;34m(\u001b[0m\u001b[0;34m'Expected BOF record; met end of file'\u001b[0m\u001b[0;34m)\u001b[0m\u001b[0;34m\u001b[0m\u001b[0m\n\u001b[1;32m   1270\u001b[0m         \u001b[0;32mif\u001b[0m \u001b[0mopcode\u001b[0m \u001b[0;32mnot\u001b[0m \u001b[0;32min\u001b[0m \u001b[0mbofcodes\u001b[0m\u001b[0;34m:\u001b[0m\u001b[0;34m\u001b[0m\u001b[0m\n\u001b[0;32m-> 1271\u001b[0;31m             \u001b[0mbof_error\u001b[0m\u001b[0;34m(\u001b[0m\u001b[0;34m'Expected BOF record; found %r'\u001b[0m \u001b[0;34m%\u001b[0m \u001b[0mself\u001b[0m\u001b[0;34m.\u001b[0m\u001b[0mmem\u001b[0m\u001b[0;34m[\u001b[0m\u001b[0msavpos\u001b[0m\u001b[0;34m:\u001b[0m\u001b[0msavpos\u001b[0m\u001b[0;34m+\u001b[0m\u001b[0;36m8\u001b[0m\u001b[0;34m]\u001b[0m\u001b[0;34m)\u001b[0m\u001b[0;34m\u001b[0m\u001b[0m\n\u001b[0m\u001b[1;32m   1272\u001b[0m         \u001b[0mlength\u001b[0m \u001b[0;34m=\u001b[0m \u001b[0mself\u001b[0m\u001b[0;34m.\u001b[0m\u001b[0mget2bytes\u001b[0m\u001b[0;34m(\u001b[0m\u001b[0;34m)\u001b[0m\u001b[0;34m\u001b[0m\u001b[0m\n\u001b[1;32m   1273\u001b[0m         \u001b[0;32mif\u001b[0m \u001b[0mlength\u001b[0m \u001b[0;34m==\u001b[0m \u001b[0mMY_EOF\u001b[0m\u001b[0;34m:\u001b[0m\u001b[0;34m\u001b[0m\u001b[0m\n",
      "\u001b[0;32m~/.pyenv/versions/3.6.2/lib/python3.6/site-packages/xlrd/book.py\u001b[0m in \u001b[0;36mbof_error\u001b[0;34m(msg)\u001b[0m\n\u001b[1;32m   1263\u001b[0m         \u001b[0;32mif\u001b[0m \u001b[0mDEBUG\u001b[0m\u001b[0;34m:\u001b[0m \u001b[0mprint\u001b[0m\u001b[0;34m(\u001b[0m\u001b[0;34m\"reqd: 0x%04x\"\u001b[0m \u001b[0;34m%\u001b[0m \u001b[0mrqd_stream\u001b[0m\u001b[0;34m,\u001b[0m \u001b[0mfile\u001b[0m\u001b[0;34m=\u001b[0m\u001b[0mself\u001b[0m\u001b[0;34m.\u001b[0m\u001b[0mlogfile\u001b[0m\u001b[0;34m)\u001b[0m\u001b[0;34m\u001b[0m\u001b[0m\n\u001b[1;32m   1264\u001b[0m         \u001b[0;32mdef\u001b[0m \u001b[0mbof_error\u001b[0m\u001b[0;34m(\u001b[0m\u001b[0mmsg\u001b[0m\u001b[0;34m)\u001b[0m\u001b[0;34m:\u001b[0m\u001b[0;34m\u001b[0m\u001b[0m\n\u001b[0;32m-> 1265\u001b[0;31m             \u001b[0;32mraise\u001b[0m \u001b[0mXLRDError\u001b[0m\u001b[0;34m(\u001b[0m\u001b[0;34m'Unsupported format, or corrupt file: '\u001b[0m \u001b[0;34m+\u001b[0m \u001b[0mmsg\u001b[0m\u001b[0;34m)\u001b[0m\u001b[0;34m\u001b[0m\u001b[0m\n\u001b[0m\u001b[1;32m   1266\u001b[0m         \u001b[0msavpos\u001b[0m \u001b[0;34m=\u001b[0m \u001b[0mself\u001b[0m\u001b[0;34m.\u001b[0m\u001b[0m_position\u001b[0m\u001b[0;34m\u001b[0m\u001b[0m\n\u001b[1;32m   1267\u001b[0m         \u001b[0mopcode\u001b[0m \u001b[0;34m=\u001b[0m \u001b[0mself\u001b[0m\u001b[0;34m.\u001b[0m\u001b[0mget2bytes\u001b[0m\u001b[0;34m(\u001b[0m\u001b[0;34m)\u001b[0m\u001b[0;34m\u001b[0m\u001b[0m\n",
      "\u001b[0;31mXLRDError\u001b[0m: Unsupported format, or corrupt file: Expected BOF record; found b'\\x0bSemio Z'"
     ]
    }
   ],
   "source": [
    "for fn in os.listdir('../source'):\n",
    "    if fn.endswith('xls'):\n",
    "        cdf, geo, ind = process_file(osp.join('../source', fn))\n",
    "        ind.to_csv(osp.join('../../', f'ddf--datapoints--{cdf.index[0]}--by--country--year.csv'))\n",
    "        concepts.append(cdf)\n",
    "        geos.append(geo)"
   ]
  },
  {
   "cell_type": "code",
   "execution_count": 170,
   "metadata": {},
   "outputs": [],
   "source": [
    "cdf_full = pd.concat(concepts)"
   ]
  },
  {
   "cell_type": "code",
   "execution_count": 171,
   "metadata": {},
   "outputs": [
    {
     "data": {
      "text/plain": [
       "Index(['Downloaded from', 'Text Citation', 'XML Citation', 'RIS Citation',\n",
       "       'BIB Citation', 'concept_type', 'name'],\n",
       "      dtype='object', name='Description')"
      ]
     },
     "execution_count": 171,
     "metadata": {},
     "output_type": "execute_result"
    }
   ],
   "source": [
    "cdf_full.columns"
   ]
  },
  {
   "cell_type": "code",
   "execution_count": 172,
   "metadata": {
    "collapsed": true
   },
   "outputs": [],
   "source": [
    "cdf_full = cdf_full[['name', 'concept_type', 'Downloaded from', 'Text Citation', \n",
    "                     'XML Citation', 'RIS Citation','BIB Citation']]"
   ]
  },
  {
   "cell_type": "code",
   "execution_count": 173,
   "metadata": {
    "collapsed": true
   },
   "outputs": [],
   "source": [
    "cdf_full.columns = cdf_full.columns.map(to_concept_id)"
   ]
  },
  {
   "cell_type": "code",
   "execution_count": 176,
   "metadata": {},
   "outputs": [],
   "source": [
    "geo_full = pd.concat(geos)"
   ]
  },
  {
   "cell_type": "code",
   "execution_count": 177,
   "metadata": {},
   "outputs": [
    {
     "data": {
      "text/plain": [
       "(10269, 2)"
      ]
     },
     "execution_count": 177,
     "metadata": {},
     "output_type": "execute_result"
    }
   ],
   "source": [
    "geo_full.shape"
   ]
  },
  {
   "cell_type": "code",
   "execution_count": 178,
   "metadata": {},
   "outputs": [],
   "source": [
    "geo_full = geo_full.drop_duplicates(subset=['name'])"
   ]
  },
  {
   "cell_type": "code",
   "execution_count": 179,
   "metadata": {},
   "outputs": [],
   "source": [
    "geo_full['ccode'] = geo_full['ccode'].map(lambda x: int(x) if not pd.isnull(x) else '')"
   ]
  },
  {
   "cell_type": "code",
   "execution_count": 180,
   "metadata": {
    "collapsed": true
   },
   "outputs": [],
   "source": [
    "geo_full.to_csv('../../ddf--entities--country.csv')"
   ]
  },
  {
   "cell_type": "code",
   "execution_count": 137,
   "metadata": {
    "collapsed": true
   },
   "outputs": [],
   "source": [
    "from ddf_utils.transformer import extract_concepts"
   ]
  },
  {
   "cell_type": "code",
   "execution_count": 153,
   "metadata": {},
   "outputs": [],
   "source": [
    "# add discrete concepts\n",
    "\n",
    "discrete = extract_concepts([cdf_full, geo_full.reset_index()])"
   ]
  },
  {
   "cell_type": "code",
   "execution_count": 154,
   "metadata": {},
   "outputs": [
    {
     "data": {
      "text/html": [
       "<div>\n",
       "<style>\n",
       "    .dataframe thead tr:only-child th {\n",
       "        text-align: right;\n",
       "    }\n",
       "\n",
       "    .dataframe thead th {\n",
       "        text-align: left;\n",
       "    }\n",
       "\n",
       "    .dataframe tbody tr th {\n",
       "        vertical-align: top;\n",
       "    }\n",
       "</style>\n",
       "<table border=\"1\" class=\"dataframe\">\n",
       "  <thead>\n",
       "    <tr style=\"text-align: right;\">\n",
       "      <th></th>\n",
       "      <th>concept</th>\n",
       "      <th>concept_type</th>\n",
       "    </tr>\n",
       "  </thead>\n",
       "  <tbody>\n",
       "    <tr>\n",
       "      <th>0</th>\n",
       "      <td>name</td>\n",
       "      <td>string</td>\n",
       "    </tr>\n",
       "    <tr>\n",
       "      <th>1</th>\n",
       "      <td>concept_type</td>\n",
       "      <td>string</td>\n",
       "    </tr>\n",
       "    <tr>\n",
       "      <th>2</th>\n",
       "      <td>downloaded_from</td>\n",
       "      <td>string</td>\n",
       "    </tr>\n",
       "    <tr>\n",
       "      <th>3</th>\n",
       "      <td>text_citation</td>\n",
       "      <td>string</td>\n",
       "    </tr>\n",
       "    <tr>\n",
       "      <th>4</th>\n",
       "      <td>xml_citation</td>\n",
       "      <td>string</td>\n",
       "    </tr>\n",
       "    <tr>\n",
       "      <th>5</th>\n",
       "      <td>ris_citation</td>\n",
       "      <td>string</td>\n",
       "    </tr>\n",
       "    <tr>\n",
       "      <th>6</th>\n",
       "      <td>bib_citation</td>\n",
       "      <td>string</td>\n",
       "    </tr>\n",
       "    <tr>\n",
       "      <th>7</th>\n",
       "      <td>country</td>\n",
       "      <td>string</td>\n",
       "    </tr>\n",
       "    <tr>\n",
       "      <th>8</th>\n",
       "      <td>ccode</td>\n",
       "      <td>string</td>\n",
       "    </tr>\n",
       "  </tbody>\n",
       "</table>\n",
       "</div>"
      ],
      "text/plain": [
       "           concept concept_type\n",
       "0             name       string\n",
       "1     concept_type       string\n",
       "2  downloaded_from       string\n",
       "3    text_citation       string\n",
       "4     xml_citation       string\n",
       "5     ris_citation       string\n",
       "6     bib_citation       string\n",
       "7          country       string\n",
       "8            ccode       string"
      ]
     },
     "execution_count": 154,
     "metadata": {},
     "output_type": "execute_result"
    }
   ],
   "source": [
    "discrete"
   ]
  },
  {
   "cell_type": "code",
   "execution_count": null,
   "metadata": {
    "collapsed": true
   },
   "outputs": [],
   "source": []
  },
  {
   "cell_type": "code",
   "execution_count": 155,
   "metadata": {
    "collapsed": true
   },
   "outputs": [],
   "source": [
    "discrete = discrete.set_index('concept')"
   ]
  },
  {
   "cell_type": "code",
   "execution_count": 160,
   "metadata": {
    "collapsed": true
   },
   "outputs": [],
   "source": [
    "discrete.loc['country', 'concept_type'] = 'entity_domain'\n",
    "discrete.loc['year', 'concept_type'] = 'time'"
   ]
  },
  {
   "cell_type": "code",
   "execution_count": 167,
   "metadata": {},
   "outputs": [],
   "source": [
    "discrete['name'] = discrete.index"
   ]
  },
  {
   "cell_type": "code",
   "execution_count": 174,
   "metadata": {
    "scrolled": false
   },
   "outputs": [],
   "source": [
    "cdf_full = cdf_full.append(discrete).drop_duplicates(subset=['name'])"
   ]
  },
  {
   "cell_type": "code",
   "execution_count": null,
   "metadata": {
    "collapsed": true
   },
   "outputs": [],
   "source": []
  },
  {
   "cell_type": "code",
   "execution_count": 175,
   "metadata": {},
   "outputs": [],
   "source": [
    "cdf_full.to_csv('../../ddf--concepts.csv')"
   ]
  },
  {
   "cell_type": "code",
   "execution_count": null,
   "metadata": {
    "collapsed": true
   },
   "outputs": [],
   "source": []
  },
  {
   "cell_type": "code",
   "execution_count": null,
   "metadata": {
    "collapsed": true
   },
   "outputs": [],
   "source": []
  },
  {
   "cell_type": "code",
   "execution_count": null,
   "metadata": {
    "collapsed": true
   },
   "outputs": [],
   "source": []
  },
  {
   "cell_type": "code",
   "execution_count": 91,
   "metadata": {},
   "outputs": [
    {
     "data": {
      "text/html": [
       "<div>\n",
       "<style>\n",
       "    .dataframe thead tr:only-child th {\n",
       "        text-align: right;\n",
       "    }\n",
       "\n",
       "    .dataframe thead th {\n",
       "        text-align: left;\n",
       "    }\n",
       "\n",
       "    .dataframe tbody tr th {\n",
       "        vertical-align: top;\n",
       "    }\n",
       "</style>\n",
       "<table border=\"1\" class=\"dataframe\">\n",
       "  <thead>\n",
       "    <tr style=\"text-align: right;\">\n",
       "      <th>Description</th>\n",
       "      <th>Downloaded from</th>\n",
       "      <th>Text Citation</th>\n",
       "      <th>XML Citation</th>\n",
       "      <th>RIS Citation</th>\n",
       "      <th>BIB Citation</th>\n",
       "      <th>concept_type</th>\n",
       "      <th>name</th>\n",
       "    </tr>\n",
       "    <tr>\n",
       "      <th>concept</th>\n",
       "      <th></th>\n",
       "      <th></th>\n",
       "      <th></th>\n",
       "      <th></th>\n",
       "      <th></th>\n",
       "      <th></th>\n",
       "      <th></th>\n",
       "    </tr>\n",
       "  </thead>\n",
       "  <tbody>\n",
       "    <tr>\n",
       "      <th>zinc_production</th>\n",
       "      <td>https://www.clio-infra.eu/data/ZincProduction_...</td>\n",
       "      <td>Klein Goldewijk, Kees and Jonathan Fink-Jensen...</td>\n",
       "      <td>https://www.clio-infra.eu/citations/DOI-10622_...</td>\n",
       "      <td>https://www.clio-infra.eu/Citations/DOI-10622_...</td>\n",
       "      <td>https://www.clio-infra.eu/Citations/DOI-10622_...</td>\n",
       "      <td>measure</td>\n",
       "      <td>Zinc Production</td>\n",
       "    </tr>\n",
       "  </tbody>\n",
       "</table>\n",
       "</div>"
      ],
      "text/plain": [
       "Description                                        Downloaded from  \\\n",
       "concept                                                              \n",
       "zinc_production  https://www.clio-infra.eu/data/ZincProduction_...   \n",
       "\n",
       "Description                                          Text Citation  \\\n",
       "concept                                                              \n",
       "zinc_production  Klein Goldewijk, Kees and Jonathan Fink-Jensen...   \n",
       "\n",
       "Description                                           XML Citation  \\\n",
       "concept                                                              \n",
       "zinc_production  https://www.clio-infra.eu/citations/DOI-10622_...   \n",
       "\n",
       "Description                                           RIS Citation  \\\n",
       "concept                                                              \n",
       "zinc_production  https://www.clio-infra.eu/Citations/DOI-10622_...   \n",
       "\n",
       "Description                                           BIB Citation  \\\n",
       "concept                                                              \n",
       "zinc_production  https://www.clio-infra.eu/Citations/DOI-10622_...   \n",
       "\n",
       "Description     concept_type             name  \n",
       "concept                                        \n",
       "zinc_production      measure  Zinc Production  "
      ]
     },
     "execution_count": 91,
     "metadata": {},
     "output_type": "execute_result"
    }
   ],
   "source": [
    "d1  #FIXME: possible bug in pandas: the Description"
   ]
  },
  {
   "cell_type": "code",
   "execution_count": 103,
   "metadata": {
    "collapsed": true
   },
   "outputs": [],
   "source": [
    "ttt = pd.DataFrame.from_records([\n",
    "    {\n",
    "        'col1': 'a',\n",
    "        'col2': 'b',\n",
    "        'col3': 0,\n",
    "        'col4': 1\n",
    "    },\n",
    "    {\n",
    "        'col1': 'c',\n",
    "        'col2': 'd',\n",
    "        'col3': 2,\n",
    "        'col4': 3,\n",
    "    },\n",
    "])"
   ]
  },
  {
   "cell_type": "code",
   "execution_count": 104,
   "metadata": {},
   "outputs": [
    {
     "data": {
      "text/html": [
       "<div>\n",
       "<style>\n",
       "    .dataframe thead tr:only-child th {\n",
       "        text-align: right;\n",
       "    }\n",
       "\n",
       "    .dataframe thead th {\n",
       "        text-align: left;\n",
       "    }\n",
       "\n",
       "    .dataframe tbody tr th {\n",
       "        vertical-align: top;\n",
       "    }\n",
       "</style>\n",
       "<table border=\"1\" class=\"dataframe\">\n",
       "  <thead>\n",
       "    <tr style=\"text-align: right;\">\n",
       "      <th></th>\n",
       "      <th>col1</th>\n",
       "      <th>col2</th>\n",
       "      <th>col3</th>\n",
       "      <th>col4</th>\n",
       "    </tr>\n",
       "  </thead>\n",
       "  <tbody>\n",
       "    <tr>\n",
       "      <th>0</th>\n",
       "      <td>a</td>\n",
       "      <td>b</td>\n",
       "      <td>0</td>\n",
       "      <td>1</td>\n",
       "    </tr>\n",
       "    <tr>\n",
       "      <th>1</th>\n",
       "      <td>c</td>\n",
       "      <td>d</td>\n",
       "      <td>2</td>\n",
       "      <td>3</td>\n",
       "    </tr>\n",
       "  </tbody>\n",
       "</table>\n",
       "</div>"
      ],
      "text/plain": [
       "  col1 col2  col3  col4\n",
       "0    a    b     0     1\n",
       "1    c    d     2     3"
      ]
     },
     "execution_count": 104,
     "metadata": {},
     "output_type": "execute_result"
    }
   ],
   "source": [
    "ttt"
   ]
  },
  {
   "cell_type": "code",
   "execution_count": 110,
   "metadata": {},
   "outputs": [],
   "source": [
    "ttt2 = ttt.set_index('col1').T.reset_index(drop=True)"
   ]
  },
  {
   "cell_type": "code",
   "execution_count": 111,
   "metadata": {},
   "outputs": [
    {
     "data": {
      "text/html": [
       "<div>\n",
       "<style>\n",
       "    .dataframe thead tr:only-child th {\n",
       "        text-align: right;\n",
       "    }\n",
       "\n",
       "    .dataframe thead th {\n",
       "        text-align: left;\n",
       "    }\n",
       "\n",
       "    .dataframe tbody tr th {\n",
       "        vertical-align: top;\n",
       "    }\n",
       "</style>\n",
       "<table border=\"1\" class=\"dataframe\">\n",
       "  <thead>\n",
       "    <tr style=\"text-align: right;\">\n",
       "      <th>col1</th>\n",
       "      <th>a</th>\n",
       "      <th>c</th>\n",
       "    </tr>\n",
       "  </thead>\n",
       "  <tbody>\n",
       "    <tr>\n",
       "      <th>0</th>\n",
       "      <td>b</td>\n",
       "      <td>d</td>\n",
       "    </tr>\n",
       "    <tr>\n",
       "      <th>1</th>\n",
       "      <td>0</td>\n",
       "      <td>2</td>\n",
       "    </tr>\n",
       "    <tr>\n",
       "      <th>2</th>\n",
       "      <td>1</td>\n",
       "      <td>3</td>\n",
       "    </tr>\n",
       "  </tbody>\n",
       "</table>\n",
       "</div>"
      ],
      "text/plain": [
       "col1  a  c\n",
       "0     b  d\n",
       "1     0  2\n",
       "2     1  3"
      ]
     },
     "execution_count": 111,
     "metadata": {},
     "output_type": "execute_result"
    }
   ],
   "source": [
    "ttt2"
   ]
  },
  {
   "cell_type": "code",
   "execution_count": 112,
   "metadata": {
    "collapsed": true
   },
   "outputs": [],
   "source": [
    "ttt2.index.name"
   ]
  },
  {
   "cell_type": "code",
   "execution_count": 113,
   "metadata": {
    "collapsed": true
   },
   "outputs": [],
   "source": [
    "ttt2.index.name = 'index'"
   ]
  },
  {
   "cell_type": "code",
   "execution_count": 114,
   "metadata": {},
   "outputs": [
    {
     "data": {
      "text/html": [
       "<div>\n",
       "<style>\n",
       "    .dataframe thead tr:only-child th {\n",
       "        text-align: right;\n",
       "    }\n",
       "\n",
       "    .dataframe thead th {\n",
       "        text-align: left;\n",
       "    }\n",
       "\n",
       "    .dataframe tbody tr th {\n",
       "        vertical-align: top;\n",
       "    }\n",
       "</style>\n",
       "<table border=\"1\" class=\"dataframe\">\n",
       "  <thead>\n",
       "    <tr style=\"text-align: right;\">\n",
       "      <th>col1</th>\n",
       "      <th>a</th>\n",
       "      <th>c</th>\n",
       "    </tr>\n",
       "    <tr>\n",
       "      <th>index</th>\n",
       "      <th></th>\n",
       "      <th></th>\n",
       "    </tr>\n",
       "  </thead>\n",
       "  <tbody>\n",
       "    <tr>\n",
       "      <th>0</th>\n",
       "      <td>b</td>\n",
       "      <td>d</td>\n",
       "    </tr>\n",
       "    <tr>\n",
       "      <th>1</th>\n",
       "      <td>0</td>\n",
       "      <td>2</td>\n",
       "    </tr>\n",
       "    <tr>\n",
       "      <th>2</th>\n",
       "      <td>1</td>\n",
       "      <td>3</td>\n",
       "    </tr>\n",
       "  </tbody>\n",
       "</table>\n",
       "</div>"
      ],
      "text/plain": [
       "col1   a  c\n",
       "index      \n",
       "0      b  d\n",
       "1      0  2\n",
       "2      1  3"
      ]
     },
     "execution_count": 114,
     "metadata": {},
     "output_type": "execute_result"
    }
   ],
   "source": [
    "ttt2"
   ]
  },
  {
   "cell_type": "code",
   "execution_count": null,
   "metadata": {
    "collapsed": true
   },
   "outputs": [],
   "source": []
  },
  {
   "cell_type": "code",
   "execution_count": 115,
   "metadata": {},
   "outputs": [
    {
     "data": {
      "text/html": [
       "<div>\n",
       "<style>\n",
       "    .dataframe thead tr:only-child th {\n",
       "        text-align: right;\n",
       "    }\n",
       "\n",
       "    .dataframe thead th {\n",
       "        text-align: left;\n",
       "    }\n",
       "\n",
       "    .dataframe tbody tr th {\n",
       "        vertical-align: top;\n",
       "    }\n",
       "</style>\n",
       "<table border=\"1\" class=\"dataframe\">\n",
       "  <thead>\n",
       "    <tr style=\"text-align: right;\">\n",
       "      <th></th>\n",
       "      <th>col2</th>\n",
       "      <th>col3</th>\n",
       "      <th>col4</th>\n",
       "    </tr>\n",
       "  </thead>\n",
       "  <tbody>\n",
       "    <tr>\n",
       "      <th>0</th>\n",
       "      <td>b</td>\n",
       "      <td>0</td>\n",
       "      <td>1</td>\n",
       "    </tr>\n",
       "    <tr>\n",
       "      <th>1</th>\n",
       "      <td>d</td>\n",
       "      <td>2</td>\n",
       "      <td>3</td>\n",
       "    </tr>\n",
       "  </tbody>\n",
       "</table>\n",
       "</div>"
      ],
      "text/plain": [
       "  col2  col3  col4\n",
       "0    b     0     1\n",
       "1    d     2     3"
      ]
     },
     "execution_count": 115,
     "metadata": {},
     "output_type": "execute_result"
    }
   ],
   "source": [
    "ttt.set_index('col1').reset_index(drop=True)"
   ]
  },
  {
   "cell_type": "code",
   "execution_count": null,
   "metadata": {
    "collapsed": true
   },
   "outputs": [],
   "source": []
  },
  {
   "cell_type": "code",
   "execution_count": null,
   "metadata": {
    "collapsed": true
   },
   "outputs": [],
   "source": []
  },
  {
   "cell_type": "code",
   "execution_count": null,
   "metadata": {
    "collapsed": true
   },
   "outputs": [],
   "source": []
  },
  {
   "cell_type": "code",
   "execution_count": null,
   "metadata": {
    "collapsed": true
   },
   "outputs": [],
   "source": []
  },
  {
   "cell_type": "code",
   "execution_count": null,
   "metadata": {
    "collapsed": true
   },
   "outputs": [],
   "source": []
  },
  {
   "cell_type": "code",
   "execution_count": null,
   "metadata": {
    "collapsed": true
   },
   "outputs": [],
   "source": []
  }
 ],
 "metadata": {
  "kernelspec": {
   "display_name": "Python 3",
   "language": "python",
   "name": "python3"
  },
  "language_info": {
   "codemirror_mode": {
    "name": "ipython",
    "version": 3
   },
   "file_extension": ".py",
   "mimetype": "text/x-python",
   "name": "python",
   "nbconvert_exporter": "python",
   "pygments_lexer": "ipython3",
   "version": "3.6.2"
  }
 },
 "nbformat": 4,
 "nbformat_minor": 2
}
